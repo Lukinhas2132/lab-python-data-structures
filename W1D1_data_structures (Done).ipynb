{
 "cells": [
  {
   "cell_type": "markdown",
   "id": "103c8f9f",
   "metadata": {
    "id": "103c8f9f",
    "toc": true
   },
   "source": [
    "<h1>Table of Contents<span class=\"tocSkip\"></span></h1>\n",
    "<div class=\"toc\"><ul class=\"toc-item\"><li><span><a href=\"#Prework-review---Data-types-and-Data-structures\" data-toc-modified-id=\"Prework-review---Data-types-and-Data-structures-1\"><span class=\"toc-item-num\">1&nbsp;&nbsp;</span>Prework review - Data types and Data structures</a></span><ul class=\"toc-item\"><li><span><a href=\"#Data-Types\" data-toc-modified-id=\"Data-Types-1.1\"><span class=\"toc-item-num\">1.1&nbsp;&nbsp;</span>Data Types</a></span><ul class=\"toc-item\"><li><span><a href=\"#Arithmetic-Operators\" data-toc-modified-id=\"Arithmetic-Operators-1.1.1\"><span class=\"toc-item-num\">1.1.1&nbsp;&nbsp;</span>Arithmetic Operators</a></span></li><li><span><a href=\"#Assignment-Operators\" data-toc-modified-id=\"Assignment-Operators-1.1.2\"><span class=\"toc-item-num\">1.1.2&nbsp;&nbsp;</span>Assignment Operators</a></span></li><li><span><a href=\"#Comparison-Operators\" data-toc-modified-id=\"Comparison-Operators-1.1.3\"><span class=\"toc-item-num\">1.1.3&nbsp;&nbsp;</span>Comparison Operators</a></span></li><li><span><a href=\"#Logical-Operators\" data-toc-modified-id=\"Logical-Operators-1.1.4\"><span class=\"toc-item-num\">1.1.4&nbsp;&nbsp;</span>Logical Operators</a></span></li><li><span><a href=\"#Data-Type-Compatibility-and-Casting\" data-toc-modified-id=\"Data-Type-Compatibility-and-Casting-1.1.5\"><span class=\"toc-item-num\">1.1.5&nbsp;&nbsp;</span>Data Type Compatibility and Casting</a></span></li></ul></li><li><span><a href=\"#String-methods-and-functions\" data-toc-modified-id=\"String-methods-and-functions-1.2\"><span class=\"toc-item-num\">1.2&nbsp;&nbsp;</span>String methods and functions</a></span><ul class=\"toc-item\"><li><span><a href=\"#Formatting-Strings\" data-toc-modified-id=\"Formatting-Strings-1.2.1\"><span class=\"toc-item-num\">1.2.1&nbsp;&nbsp;</span>Formatting Strings</a></span></li><li><span><a href=\"#Input-and-output-functions\" data-toc-modified-id=\"Input-and-output-functions-1.2.2\"><span class=\"toc-item-num\">1.2.2&nbsp;&nbsp;</span>Input and output functions</a></span></li><li><span><a href=\"#💡-Check-for-understanding\" data-toc-modified-id=\"💡-Check-for-understanding-1.2.3\"><span class=\"toc-item-num\">1.2.3&nbsp;&nbsp;</span>💡 Check for understanding</a></span></li></ul></li><li><span><a href=\"#Data-structures\" data-toc-modified-id=\"Data-structures-1.3\"><span class=\"toc-item-num\">1.3&nbsp;&nbsp;</span>Data structures</a></span><ul class=\"toc-item\"><li><span><a href=\"#Lists\" data-toc-modified-id=\"Lists-1.3.1\"><span class=\"toc-item-num\">1.3.1&nbsp;&nbsp;</span>Lists</a></span><ul class=\"toc-item\"><li><span><a href=\"#Indexing-and-slicing\" data-toc-modified-id=\"Indexing-and-slicing-1.3.1.1\"><span class=\"toc-item-num\">1.3.1.1&nbsp;&nbsp;</span>Indexing and slicing</a></span></li><li><span><a href=\"#Modifying-List-Elements\" data-toc-modified-id=\"Modifying-List-Elements-1.3.1.2\"><span class=\"toc-item-num\">1.3.1.2&nbsp;&nbsp;</span>Modifying List Elements</a></span></li><li><span><a href=\"#List-Operators-and-functions\" data-toc-modified-id=\"List-Operators-and-functions-1.3.1.3\"><span class=\"toc-item-num\">1.3.1.3&nbsp;&nbsp;</span>List Operators and functions</a></span></li><li><span><a href=\"#💡-Check-for-understanding\" data-toc-modified-id=\"💡-Check-for-understanding-1.3.1.4\"><span class=\"toc-item-num\">1.3.1.4&nbsp;&nbsp;</span>💡 Check for understanding</a></span></li></ul></li><li><span><a href=\"#Dictionaries\" data-toc-modified-id=\"Dictionaries-1.3.2\"><span class=\"toc-item-num\">1.3.2&nbsp;&nbsp;</span>Dictionaries</a></span><ul class=\"toc-item\"><li><span><a href=\"#Accessing-values-using-the-keys\" data-toc-modified-id=\"Accessing-values-using-the-keys-1.3.2.1\"><span class=\"toc-item-num\">1.3.2.1&nbsp;&nbsp;</span>Accessing values using the keys</a></span></li><li><span><a href=\"#Adding-and-Modifying-Values\" data-toc-modified-id=\"Adding-and-Modifying-Values-1.3.2.2\"><span class=\"toc-item-num\">1.3.2.2&nbsp;&nbsp;</span>Adding and Modifying Values</a></span></li><li><span><a href=\"#Removing-Values\" data-toc-modified-id=\"Removing-Values-1.3.2.3\"><span class=\"toc-item-num\">1.3.2.3&nbsp;&nbsp;</span>Removing Values</a></span></li><li><span><a href=\"#Checking-Key-Existence\" data-toc-modified-id=\"Checking-Key-Existence-1.3.2.4\"><span class=\"toc-item-num\">1.3.2.4&nbsp;&nbsp;</span>Checking Key Existence</a></span></li><li><span><a href=\"#Dictionary-Methods\" data-toc-modified-id=\"Dictionary-Methods-1.3.2.5\"><span class=\"toc-item-num\">1.3.2.5&nbsp;&nbsp;</span>Dictionary Methods</a></span></li></ul></li><li><span><a href=\"#Sets\" data-toc-modified-id=\"Sets-1.3.3\"><span class=\"toc-item-num\">1.3.3&nbsp;&nbsp;</span>Sets</a></span></li><li><span><a href=\"#Tuples\" data-toc-modified-id=\"Tuples-1.3.4\"><span class=\"toc-item-num\">1.3.4&nbsp;&nbsp;</span>Tuples</a></span></li></ul></li><li><span><a href=\"#Summary\" data-toc-modified-id=\"Summary-1.4\"><span class=\"toc-item-num\">1.4&nbsp;&nbsp;</span>Summary</a></span></li><li><span><a href=\"#💡-Check-for-understanding\" data-toc-modified-id=\"💡-Check-for-understanding-1.5\"><span class=\"toc-item-num\">1.5&nbsp;&nbsp;</span>💡 Check for understanding</a></span></li></ul></li><li><span><a href=\"#Extra:-nested-dictionaries\" data-toc-modified-id=\"Extra:-nested-dictionaries-2\"><span class=\"toc-item-num\">2&nbsp;&nbsp;</span>Extra: nested dictionaries</a></span></li><li><span><a href=\"#Extra:-&quot;is&quot;-vs-&quot;==&quot;\" data-toc-modified-id=\"Extra:-&quot;is&quot;-vs-&quot;==&quot;-3\"><span class=\"toc-item-num\">3&nbsp;&nbsp;</span>Extra: \"is\" vs \"==\"</a></span></li></ul></div>"
   ]
  },
  {
   "cell_type": "markdown",
   "id": "618d40fe",
   "metadata": {
    "id": "618d40fe"
   },
   "source": [
    "![elgif](https://media.giphy.com/media/coxQHKASG60HrHtvkt/giphy.gif)"
   ]
  },
  {
   "cell_type": "markdown",
   "id": "813ac079-1796-4acf-9bd9-90702cb870d8",
   "metadata": {
    "id": "813ac079-1796-4acf-9bd9-90702cb870d8",
    "tags": []
   },
   "source": [
    "# Prework review - Data types and Data structures"
   ]
  },
  {
   "cell_type": "code",
   "execution_count": null,
   "id": "M9ctjTFoWuSF",
   "metadata": {
    "colab": {
     "base_uri": "https://localhost:8080/"
    },
    "id": "M9ctjTFoWuSF",
    "outputId": "591e2361-8d14-4102-ccf1-8266a96aee1b"
   },
   "outputs": [
    {
     "name": "stdout",
     "output_type": "stream",
     "text": [
      "3\n"
     ]
    },
    {
     "data": {
      "text/plain": [
       "5"
      ]
     },
     "execution_count": 1,
     "metadata": {},
     "output_type": "execute_result"
    }
   ],
   "source": [
    "print(3)\n",
    "5"
   ]
  },
  {
   "cell_type": "code",
   "execution_count": null,
   "id": "dbec460f",
   "metadata": {
    "id": "dbec460f"
   },
   "outputs": [],
   "source": [
    "# Jupyter notebook - print vs last cell output\n",
    "# Restarting the kernel\n",
    "# Markdown vs Python cells"
   ]
  },
  {
   "cell_type": "markdown",
   "id": "be6c0098-5bdf-44d5-be00-4092f33415eb",
   "metadata": {
    "id": "be6c0098-5bdf-44d5-be00-4092f33415eb"
   },
   "source": [
    "## Data Types"
   ]
  },
  {
   "cell_type": "markdown",
   "id": "3e17c061-b60d-4476-b16c-1c76c0554040",
   "metadata": {
    "id": "3e17c061-b60d-4476-b16c-1c76c0554040"
   },
   "source": [
    "Let's review the fundamental data types in Python:\n",
    "\n",
    "- Integer: Represents whole numbers (e.g., 10, 3, -5, 0).\n",
    "- Float: Represents decimal numbers (e.g., 20.2, 100.2403, -5.50).\n",
    "- String: Represents text or a group of characters (e.g., \"Hello, World!\", \"Python\").\n",
    "- Boolean: Represents either True or False.\n",
    "\n",
    "The `type()` function is used to check the data type of a variable."
   ]
  },
  {
   "cell_type": "code",
   "execution_count": null,
   "id": "bd2620c6",
   "metadata": {
    "colab": {
     "base_uri": "https://localhost:8080/"
    },
    "id": "bd2620c6",
    "outputId": "bd3111d9-0b39-4585-980f-52b8408f934a"
   },
   "outputs": [
    {
     "data": {
      "text/plain": [
       "int"
      ]
     },
     "execution_count": 4,
     "metadata": {},
     "output_type": "execute_result"
    }
   ],
   "source": [
    "# int\n",
    "3\n",
    "2\n",
    "1684392\n",
    "type(42)"
   ]
  },
  {
   "cell_type": "code",
   "execution_count": null,
   "id": "d320f899",
   "metadata": {
    "colab": {
     "base_uri": "https://localhost:8080/"
    },
    "id": "d320f899",
    "outputId": "c939f892-2645-403e-f48d-6cddcf3e988f"
   },
   "outputs": [
    {
     "data": {
      "text/plain": [
       "float"
      ]
     },
     "execution_count": 9,
     "metadata": {},
     "output_type": "execute_result"
    }
   ],
   "source": [
    "# float\n",
    "type(3.0)\n",
    "type(3.)\n",
    "type(.85)\n",
    "type(0.85)"
   ]
  },
  {
   "cell_type": "code",
   "execution_count": null,
   "id": "7bf62ade",
   "metadata": {
    "colab": {
     "base_uri": "https://localhost:8080/"
    },
    "id": "7bf62ade",
    "outputId": "5a263e27-f32d-4055-9a2e-5ae562184945"
   },
   "outputs": [
    {
     "name": "stdout",
     "output_type": "stream",
     "text": [
      "<class 'str'>\n"
     ]
    },
    {
     "data": {
      "text/plain": [
       "str"
      ]
     },
     "execution_count": 19,
     "metadata": {},
     "output_type": "execute_result"
    }
   ],
   "source": [
    "# string - single/double quotes\n",
    "print(type(\"Ivan\"))\n",
    "type('Ivan')\n",
    "# single/double quotes in string\n",
    "\n",
    "\"Ivan's\"\n",
    "type('She said: \"The Lead Teacher is wonderful\"')"
   ]
  },
  {
   "cell_type": "code",
   "execution_count": null,
   "id": "04f9a423",
   "metadata": {
    "colab": {
     "base_uri": "https://localhost:8080/"
    },
    "id": "04f9a423",
    "outputId": "b963e659-de96-459b-e559-696bfe61e30e"
   },
   "outputs": [
    {
     "data": {
      "text/plain": [
       "True"
      ]
     },
     "execution_count": 24,
     "metadata": {},
     "output_type": "execute_result"
    }
   ],
   "source": [
    "# bool\n",
    "True\n",
    "False\n",
    "type(True)\n",
    "\n",
    "1 == True\n",
    "0 == False"
   ]
  },
  {
   "cell_type": "code",
   "execution_count": null,
   "id": "eef61c8c",
   "metadata": {
    "colab": {
     "base_uri": "https://localhost:8080/"
    },
    "id": "eef61c8c",
    "outputId": "01f9fcd3-3838-4392-f452-5dab08f6bd7b"
   },
   "outputs": [
    {
     "name": "stdout",
     "output_type": "stream",
     "text": [
      "Is 1 a boolean False\n",
      "Is True a boolean? True\n",
      "Is True an integer? True\n"
     ]
    }
   ],
   "source": [
    "# type, isinstance\n",
    "print(\"Is 1 a boolean?\", isinstance(1, bool))\n",
    "print(\"Is True a boolean?\", isinstance(True, bool))\n",
    "print(\"Is True an integer?\", isinstance(True, int))"
   ]
  },
  {
   "cell_type": "markdown",
   "id": "16dc4a43-6f9d-4f8d-b946-3fb5e67d4cb3",
   "metadata": {
    "id": "16dc4a43-6f9d-4f8d-b946-3fb5e67d4cb3"
   },
   "source": [
    "**Observation**"
   ]
  },
  {
   "cell_type": "markdown",
   "id": "38f2e106-8493-4df2-bd0c-9156462ea18b",
   "metadata": {
    "id": "38f2e106-8493-4df2-bd0c-9156462ea18b"
   },
   "source": [
    "In Python, Boolean values (True and False) are implicitly treated as integers, with True being equivalent to 1 and False being equivalent to 0."
   ]
  },
  {
   "cell_type": "code",
   "execution_count": null,
   "id": "ad6316eb-49ee-4e30-8160-ffa29594fdba",
   "metadata": {
    "id": "ad6316eb-49ee-4e30-8160-ffa29594fdba"
   },
   "outputs": [],
   "source": [
    "# Check types for 1, True"
   ]
  },
  {
   "cell_type": "code",
   "execution_count": null,
   "id": "724c955e",
   "metadata": {
    "id": "724c955e"
   },
   "outputs": [],
   "source": [
    "# Check if True is bool/int - careful when having variables that could be both integers (0/1) and booleans"
   ]
  },
  {
   "cell_type": "markdown",
   "id": "3fae62dd-08db-4d54-a95f-8eb673ebba9b",
   "metadata": {
    "id": "3fae62dd-08db-4d54-a95f-8eb673ebba9b"
   },
   "source": [
    "### Arithmetic Operators"
   ]
  },
  {
   "cell_type": "markdown",
   "id": "1295c68f-a366-4459-80ab-bbc8502842f4",
   "metadata": {
    "id": "1295c68f-a366-4459-80ab-bbc8502842f4"
   },
   "source": [
    "Arithmetic operators are used to perform mathematical calculations on numeric data types.\n",
    "- (+): Adds values.\n",
    "- (-): Subtracts values.\n",
    "- (*): Multiplies values.\n",
    "- (/): Divides values.\n",
    "- (//): Performs integer division.\n",
    "- (%): Returns remainder of division.\n",
    "- (**): Raises a value to a power.\n",
    "\n",
    "Arithmetic operators on strings in Python:\n",
    "\n",
    "- Addition (+): Concatenates two strings.\n",
    "- Multiplication (*): Repeats a string.\n",
    "- Others (-, /, %, **): Not applicable to strings."
   ]
  },
  {
   "cell_type": "code",
   "execution_count": null,
   "id": "fe37f3d1-149f-41f4-8c17-f1580420bea8",
   "metadata": {
    "id": "fe37f3d1-149f-41f4-8c17-f1580420bea8"
   },
   "outputs": [],
   "source": [
    "# Exemplify with integers\n",
    "x = 10\n",
    "y = 5"
   ]
  },
  {
   "cell_type": "code",
   "execution_count": null,
   "id": "1WQ3hx1RaYiv",
   "metadata": {
    "colab": {
     "base_uri": "https://localhost:8080/"
    },
    "id": "1WQ3hx1RaYiv",
    "outputId": "4d52630b-c9ba-4cff-c02a-48fafe9f46ca"
   },
   "outputs": [
    {
     "data": {
      "text/plain": [
       "15"
      ]
     },
     "execution_count": 31,
     "metadata": {},
     "output_type": "execute_result"
    }
   ],
   "source": [
    "x + y"
   ]
  },
  {
   "cell_type": "code",
   "execution_count": null,
   "id": "KacjxQSHaayK",
   "metadata": {
    "colab": {
     "base_uri": "https://localhost:8080/"
    },
    "id": "KacjxQSHaayK",
    "outputId": "c99a8424-6bdf-48ae-980c-fb6c004db212"
   },
   "outputs": [
    {
     "data": {
      "text/plain": [
       "5"
      ]
     },
     "execution_count": 32,
     "metadata": {},
     "output_type": "execute_result"
    }
   ],
   "source": [
    "x - y"
   ]
  },
  {
   "cell_type": "code",
   "execution_count": null,
   "id": "SdaeAxvNacvC",
   "metadata": {
    "colab": {
     "base_uri": "https://localhost:8080/"
    },
    "id": "SdaeAxvNacvC",
    "outputId": "aa3f3865-7fb3-4983-cdaa-277518d27288"
   },
   "outputs": [
    {
     "data": {
      "text/plain": [
       "50"
      ]
     },
     "execution_count": 33,
     "metadata": {},
     "output_type": "execute_result"
    }
   ],
   "source": [
    "x * y"
   ]
  },
  {
   "cell_type": "code",
   "execution_count": null,
   "id": "IojdVzjCaecR",
   "metadata": {
    "colab": {
     "base_uri": "https://localhost:8080/"
    },
    "id": "IojdVzjCaecR",
    "outputId": "42f50c8f-73d0-4a14-a65e-9cf6f2fafef8"
   },
   "outputs": [
    {
     "data": {
      "text/plain": [
       "2.4"
      ]
     },
     "execution_count": 37,
     "metadata": {},
     "output_type": "execute_result"
    }
   ],
   "source": [
    "x / y\n",
    "12 / 5"
   ]
  },
  {
   "cell_type": "code",
   "execution_count": null,
   "id": "SsHW0p1DagZT",
   "metadata": {
    "colab": {
     "base_uri": "https://localhost:8080/"
    },
    "id": "SsHW0p1DagZT",
    "outputId": "e89972d2-d4e0-40e4-97ce-8e03ef755920"
   },
   "outputs": [
    {
     "data": {
      "text/plain": [
       "2"
      ]
     },
     "execution_count": 36,
     "metadata": {},
     "output_type": "execute_result"
    }
   ],
   "source": [
    "x // y\n",
    "12 // 5"
   ]
  },
  {
   "cell_type": "code",
   "execution_count": null,
   "id": "DprMEnEraqjx",
   "metadata": {
    "colab": {
     "base_uri": "https://localhost:8080/"
    },
    "id": "DprMEnEraqjx",
    "outputId": "8a030088-7e7c-4024-85a2-723c8a41d13e"
   },
   "outputs": [
    {
     "data": {
      "text/plain": [
       "100000"
      ]
     },
     "execution_count": 38,
     "metadata": {},
     "output_type": "execute_result"
    }
   ],
   "source": [
    "x ** y"
   ]
  },
  {
   "cell_type": "code",
   "execution_count": null,
   "id": "UCuk2aHNau0H",
   "metadata": {
    "colab": {
     "base_uri": "https://localhost:8080/"
    },
    "id": "UCuk2aHNau0H",
    "outputId": "45cc0af9-32da-4ca7-ff4c-050b1b40db26"
   },
   "outputs": [
    {
     "data": {
      "text/plain": [
       "3"
      ]
     },
     "execution_count": 42,
     "metadata": {},
     "output_type": "execute_result"
    }
   ],
   "source": [
    "x % y\n",
    "13 % 10"
   ]
  },
  {
   "cell_type": "code",
   "execution_count": null,
   "id": "83f814e4",
   "metadata": {
    "id": "83f814e4"
   },
   "outputs": [],
   "source": [
    "# Exemplify with strings\n",
    "name = \"Peter\"\n",
    "surname = \"Pan\""
   ]
  },
  {
   "cell_type": "code",
   "execution_count": null,
   "id": "duvb5CrLa9W8",
   "metadata": {
    "colab": {
     "base_uri": "https://localhost:8080/",
     "height": 35
    },
    "id": "duvb5CrLa9W8",
    "outputId": "0c7ea554-0083-4b02-be6c-83a8d538f958"
   },
   "outputs": [
    {
     "data": {
      "application/vnd.google.colaboratory.intrinsic+json": {
       "type": "string"
      },
      "text/plain": [
       "'Peter Pan'"
      ]
     },
     "execution_count": 46,
     "metadata": {},
     "output_type": "execute_result"
    }
   ],
   "source": [
    "name + ' '  + surname"
   ]
  },
  {
   "cell_type": "code",
   "execution_count": null,
   "id": "XJYLi9DSbK9r",
   "metadata": {
    "colab": {
     "base_uri": "https://localhost:8080/",
     "height": 35
    },
    "id": "XJYLi9DSbK9r",
    "outputId": "5296b85c-a6e9-44ff-9a54-3d373fd7f3a2"
   },
   "outputs": [
    {
     "data": {
      "application/vnd.google.colaboratory.intrinsic+json": {
       "type": "string"
      },
      "text/plain": [
       "'PeterPeterPeter'"
      ]
     },
     "execution_count": 47,
     "metadata": {},
     "output_type": "execute_result"
    }
   ],
   "source": [
    "name * 3"
   ]
  },
  {
   "cell_type": "code",
   "execution_count": null,
   "id": "q0Y4lhtcbO7l",
   "metadata": {
    "colab": {
     "base_uri": "https://localhost:8080/",
     "height": 141
    },
    "id": "q0Y4lhtcbO7l",
    "outputId": "d2787294-926a-458c-da30-048836dae993"
   },
   "outputs": [
    {
     "ename": "TypeError",
     "evalue": "unsupported operand type(s) for -: 'str' and 'str'",
     "output_type": "error",
     "traceback": [
      "\u001b[0;31m---------------------------------------------------------------------------\u001b[0m",
      "\u001b[0;31mTypeError\u001b[0m                                 Traceback (most recent call last)",
      "\u001b[0;32m<ipython-input-48-1669566026d4>\u001b[0m in \u001b[0;36m<cell line: 1>\u001b[0;34m()\u001b[0m\n\u001b[0;32m----> 1\u001b[0;31m \u001b[0mname\u001b[0m \u001b[0;34m-\u001b[0m \u001b[0msurname\u001b[0m\u001b[0;34m\u001b[0m\u001b[0;34m\u001b[0m\u001b[0m\n\u001b[0m",
      "\u001b[0;31mTypeError\u001b[0m: unsupported operand type(s) for -: 'str' and 'str'"
     ]
    }
   ],
   "source": [
    "name - surname"
   ]
  },
  {
   "cell_type": "code",
   "execution_count": null,
   "id": "_c6BKt3tbVz6",
   "metadata": {
    "colab": {
     "base_uri": "https://localhost:8080/",
     "height": 141
    },
    "id": "_c6BKt3tbVz6",
    "outputId": "fb80876e-21f2-4b87-d7f6-74f532d27f75"
   },
   "outputs": [
    {
     "ename": "TypeError",
     "evalue": "unsupported operand type(s) for /: 'str' and 'str'",
     "output_type": "error",
     "traceback": [
      "\u001b[0;31m---------------------------------------------------------------------------\u001b[0m",
      "\u001b[0;31mTypeError\u001b[0m                                 Traceback (most recent call last)",
      "\u001b[0;32m<ipython-input-49-dcf2d2d9520b>\u001b[0m in \u001b[0;36m<cell line: 1>\u001b[0;34m()\u001b[0m\n\u001b[0;32m----> 1\u001b[0;31m \u001b[0mname\u001b[0m \u001b[0;34m/\u001b[0m \u001b[0msurname\u001b[0m\u001b[0;34m\u001b[0m\u001b[0;34m\u001b[0m\u001b[0m\n\u001b[0m",
      "\u001b[0;31mTypeError\u001b[0m: unsupported operand type(s) for /: 'str' and 'str'"
     ]
    }
   ],
   "source": [
    "name / surname"
   ]
  },
  {
   "cell_type": "code",
   "execution_count": null,
   "id": "K-vn3zCybYgL",
   "metadata": {
    "colab": {
     "base_uri": "https://localhost:8080/",
     "height": 141
    },
    "id": "K-vn3zCybYgL",
    "outputId": "cfdc8ca7-434a-4b31-af31-ae4b71c1cdcb"
   },
   "outputs": [
    {
     "ename": "TypeError",
     "evalue": "unsupported operand type(s) for /: 'str' and 'int'",
     "output_type": "error",
     "traceback": [
      "\u001b[0;31m---------------------------------------------------------------------------\u001b[0m",
      "\u001b[0;31mTypeError\u001b[0m                                 Traceback (most recent call last)",
      "\u001b[0;32m<ipython-input-50-a4132eebea4a>\u001b[0m in \u001b[0;36m<cell line: 1>\u001b[0;34m()\u001b[0m\n\u001b[0;32m----> 1\u001b[0;31m \u001b[0mname\u001b[0m \u001b[0;34m/\u001b[0m \u001b[0;36m2\u001b[0m\u001b[0;34m\u001b[0m\u001b[0;34m\u001b[0m\u001b[0m\n\u001b[0m",
      "\u001b[0;31mTypeError\u001b[0m: unsupported operand type(s) for /: 'str' and 'int'"
     ]
    }
   ],
   "source": [
    "name / 2"
   ]
  },
  {
   "cell_type": "markdown",
   "id": "904d03ac-4898-4aab-94d0-9aad79085c3e",
   "metadata": {
    "id": "904d03ac-4898-4aab-94d0-9aad79085c3e"
   },
   "source": [
    "### Assignment Operators"
   ]
  },
  {
   "cell_type": "markdown",
   "id": "6fb64855-9d00-4334-bb57-0c6006b24f7e",
   "metadata": {
    "id": "6fb64855-9d00-4334-bb57-0c6006b24f7e"
   },
   "source": [
    "Assignment operators in Python are used to assign values to variables. They combine the assignment (=) operator with other operators (e.g., +=, -=, *=) to perform arithmetic or logical operations while assigning the result back to the variable."
   ]
  },
  {
   "cell_type": "raw",
   "id": "3b3b6151-a1cf-410e-b409-27f22e2ab75d",
   "metadata": {
    "id": "3b3b6151-a1cf-410e-b409-27f22e2ab75d"
   },
   "source": [
    "x += 3  is equivalent to x = x + 3"
   ]
  },
  {
   "cell_type": "code",
   "execution_count": null,
   "id": "mfVJWEUxbo4X",
   "metadata": {
    "id": "mfVJWEUxbo4X"
   },
   "outputs": [],
   "source": []
  },
  {
   "cell_type": "code",
   "execution_count": null,
   "id": "cbdd6669-b0a7-4384-a71e-67ee5a4b50f4",
   "metadata": {
    "id": "cbdd6669-b0a7-4384-a71e-67ee5a4b50f4"
   },
   "outputs": [],
   "source": [
    "# use operators\n",
    "x = 5\n",
    "x += 3"
   ]
  },
  {
   "cell_type": "code",
   "execution_count": null,
   "id": "MrczlcIhbrHw",
   "metadata": {
    "colab": {
     "base_uri": "https://localhost:8080/"
    },
    "id": "MrczlcIhbrHw",
    "outputId": "c2b168cf-3fa5-4484-b70e-e394bc4120ba"
   },
   "outputs": [
    {
     "data": {
      "text/plain": [
       "8"
      ]
     },
     "execution_count": 64,
     "metadata": {},
     "output_type": "execute_result"
    }
   ],
   "source": [
    "x"
   ]
  },
  {
   "cell_type": "code",
   "execution_count": null,
   "id": "tBvx8p2scMVu",
   "metadata": {
    "colab": {
     "base_uri": "https://localhost:8080/"
    },
    "id": "tBvx8p2scMVu",
    "outputId": "6987e7da-221c-4819-e313-b94f18c3ff3d"
   },
   "outputs": [
    {
     "name": "stdout",
     "output_type": "stream",
     "text": [
      "15\n"
     ]
    }
   ],
   "source": [
    "x = 5\n",
    "x *= 3\n",
    "print(x)"
   ]
  },
  {
   "cell_type": "code",
   "execution_count": null,
   "id": "NX1KJLNucQ1V",
   "metadata": {
    "colab": {
     "base_uri": "https://localhost:8080/"
    },
    "id": "NX1KJLNucQ1V",
    "outputId": "d5c51cbc-862b-4e49-b3ec-c278f869ec33"
   },
   "outputs": [
    {
     "name": "stdout",
     "output_type": "stream",
     "text": [
      "1.6666666666666667\n"
     ]
    }
   ],
   "source": [
    "x = 5\n",
    "x /= 3\n",
    "print(x)"
   ]
  },
  {
   "cell_type": "markdown",
   "id": "949f7813-a73e-45ee-996a-165eac50c507",
   "metadata": {
    "id": "949f7813-a73e-45ee-996a-165eac50c507"
   },
   "source": [
    "### Comparison Operators"
   ]
  },
  {
   "cell_type": "markdown",
   "id": "4930ea0e-10f2-4df0-973d-60255aa027bf",
   "metadata": {
    "id": "4930ea0e-10f2-4df0-973d-60255aa027bf"
   },
   "source": [
    "Comparison operators in Python are used to compare values and return a boolean result (True or False). They include operators such as == (equal to), != (not equal to), > (greater than), < (less than), >= (greater than or equal to), and <= (less than or equal to).\n"
   ]
  },
  {
   "cell_type": "code",
   "execution_count": null,
   "id": "48c78ab2-c2ba-4792-af74-673d05cc06bb",
   "metadata": {
    "colab": {
     "base_uri": "https://localhost:8080/"
    },
    "id": "48c78ab2-c2ba-4792-af74-673d05cc06bb",
    "outputId": "6debb077-b62a-4edd-f789-6df13dd60dc4"
   },
   "outputs": [
    {
     "data": {
      "text/plain": [
       "True"
      ]
     },
     "execution_count": 71,
     "metadata": {},
     "output_type": "execute_result"
    }
   ],
   "source": [
    "# to be used in flow control statements (next lesson)\n",
    "1 == True"
   ]
  },
  {
   "cell_type": "code",
   "execution_count": null,
   "id": "HM2KRQoVcdf1",
   "metadata": {
    "colab": {
     "base_uri": "https://localhost:8080/"
    },
    "id": "HM2KRQoVcdf1",
    "outputId": "76f34df0-5fbd-400a-ab06-a2abb2edf05c"
   },
   "outputs": [
    {
     "data": {
      "text/plain": [
       "True"
      ]
     },
     "execution_count": 73,
     "metadata": {},
     "output_type": "execute_result"
    }
   ],
   "source": [
    "1 != True\n",
    "1 != 2"
   ]
  },
  {
   "cell_type": "code",
   "execution_count": null,
   "id": "CUKzRWciciTR",
   "metadata": {
    "colab": {
     "base_uri": "https://localhost:8080/"
    },
    "id": "CUKzRWciciTR",
    "outputId": "025a9fdb-5db1-4338-dd4a-1b5d28f6bffb"
   },
   "outputs": [
    {
     "data": {
      "text/plain": [
       "False"
      ]
     },
     "execution_count": 77,
     "metadata": {},
     "output_type": "execute_result"
    }
   ],
   "source": [
    "1 >= 2"
   ]
  },
  {
   "cell_type": "code",
   "execution_count": null,
   "id": "UoVFr3Zzckf-",
   "metadata": {
    "colab": {
     "base_uri": "https://localhost:8080/"
    },
    "id": "UoVFr3Zzckf-",
    "outputId": "7979b97c-d73a-46b6-e800-b35987c92f6f"
   },
   "outputs": [
    {
     "data": {
      "text/plain": [
       "True"
      ]
     },
     "execution_count": 76,
     "metadata": {},
     "output_type": "execute_result"
    }
   ],
   "source": [
    "1 <= 2"
   ]
  },
  {
   "cell_type": "markdown",
   "id": "561b79f4-6ebe-46ac-953c-2e67084eb528",
   "metadata": {
    "id": "561b79f4-6ebe-46ac-953c-2e67084eb528"
   },
   "source": [
    "### Logical Operators"
   ]
  },
  {
   "cell_type": "markdown",
   "id": "ddeabd60-2024-4ac4-ab74-2636d5397a8b",
   "metadata": {
    "id": "ddeabd60-2024-4ac4-ab74-2636d5397a8b"
   },
   "source": [
    "Python's logical operators allow you to manipulate logical values (True or False) and make decisions based on conditions. The three logical operators in Python are:\n",
    "\n",
    "- `and`: Returns True if both conditions are True, otherwise False.\n",
    "- `or`: Returns True if at least one condition is True, otherwise False.\n",
    "- `not`: Negates the logical value of a condition."
   ]
  },
  {
   "cell_type": "code",
   "execution_count": null,
   "id": "358ff59a-ace0-4cc5-840a-f1112835bf05",
   "metadata": {
    "colab": {
     "base_uri": "https://localhost:8080/"
    },
    "id": "358ff59a-ace0-4cc5-840a-f1112835bf05",
    "outputId": "74476b86-e76f-47d0-818b-7776b31407fd"
   },
   "outputs": [
    {
     "name": "stdout",
     "output_type": "stream",
     "text": [
      "The bootcamp is happening!\n"
     ]
    }
   ],
   "source": [
    "hour = 21\n",
    "if 'Teacher' in ' Lead Teacher' and hour > 18:\n",
    "  print('The bootcamp is happening!')"
   ]
  },
  {
   "cell_type": "code",
   "execution_count": null,
   "id": "zNTMW0S0ddVH",
   "metadata": {
    "colab": {
     "base_uri": "https://localhost:8080/"
    },
    "id": "zNTMW0S0ddVH",
    "outputId": "433aa13b-01d9-4feb-bfef-817f8029d7c8"
   },
   "outputs": [
    {
     "data": {
      "text/plain": [
       "False"
      ]
     },
     "execution_count": 86,
     "metadata": {},
     "output_type": "execute_result"
    }
   ],
   "source": [
    "('Leda' in ' Lead Teacher')"
   ]
  },
  {
   "cell_type": "code",
   "execution_count": null,
   "id": "Y06yf9Vsd692",
   "metadata": {
    "colab": {
     "base_uri": "https://localhost:8080/"
    },
    "id": "Y06yf9Vsd692",
    "outputId": "27f9c800-19d9-4173-b042-6ba0f6be5409"
   },
   "outputs": [
    {
     "data": {
      "text/plain": [
       "True"
      ]
     },
     "execution_count": 89,
     "metadata": {},
     "output_type": "execute_result"
    }
   ],
   "source": [
    "(hour > 18)"
   ]
  },
  {
   "cell_type": "code",
   "execution_count": null,
   "id": "rnHKyRTXdVBZ",
   "metadata": {
    "colab": {
     "base_uri": "https://localhost:8080/"
    },
    "id": "rnHKyRTXdVBZ",
    "outputId": "c80fb351-7559-4d3a-8949-bc9ba86bd4c2"
   },
   "outputs": [
    {
     "data": {
      "text/plain": [
       "False"
      ]
     },
     "execution_count": 91,
     "metadata": {},
     "output_type": "execute_result"
    }
   ],
   "source": [
    "('xD' in ' Lead Teacher') and (hour > 18)"
   ]
  },
  {
   "cell_type": "code",
   "execution_count": null,
   "id": "yi1s5zUveGdL",
   "metadata": {
    "colab": {
     "base_uri": "https://localhost:8080/"
    },
    "id": "yi1s5zUveGdL",
    "outputId": "839cfa8d-7a95-4087-82e8-c955b96491f4"
   },
   "outputs": [
    {
     "data": {
      "text/plain": [
       "True"
      ]
     },
     "execution_count": 92,
     "metadata": {},
     "output_type": "execute_result"
    }
   ],
   "source": [
    "('xD' in ' Lead Teacher') or (hour > 18)"
   ]
  },
  {
   "cell_type": "code",
   "execution_count": null,
   "id": "_nNRaWJieOJo",
   "metadata": {
    "colab": {
     "base_uri": "https://localhost:8080/"
    },
    "id": "_nNRaWJieOJo",
    "outputId": "8f2ebd6e-fd5d-4eaa-d41c-fe315e1c0a1b"
   },
   "outputs": [
    {
     "data": {
      "text/plain": [
       "False"
      ]
     },
     "execution_count": 93,
     "metadata": {},
     "output_type": "execute_result"
    }
   ],
   "source": [
    "('xD' in ' Lead Teacher') or (hour < 18)"
   ]
  },
  {
   "cell_type": "code",
   "execution_count": null,
   "id": "xdy4UdxteQAM",
   "metadata": {
    "colab": {
     "base_uri": "https://localhost:8080/"
    },
    "id": "xdy4UdxteQAM",
    "outputId": "39d2ecd4-68e1-4598-d88e-58873c1b3d24"
   },
   "outputs": [
    {
     "data": {
      "text/plain": [
       "True"
      ]
     },
     "execution_count": 94,
     "metadata": {},
     "output_type": "execute_result"
    }
   ],
   "source": [
    "not ('xD' in ' Lead Teacher')"
   ]
  },
  {
   "cell_type": "markdown",
   "id": "d696bfa4-d486-4b91-a715-1c5215b499e5",
   "metadata": {
    "id": "d696bfa4-d486-4b91-a715-1c5215b499e5",
    "tags": []
   },
   "source": [
    "### Data Type Compatibility and Casting"
   ]
  },
  {
   "cell_type": "markdown",
   "id": "3c8aa343-4b83-4b25-a4db-6d982a136003",
   "metadata": {
    "id": "3c8aa343-4b83-4b25-a4db-6d982a136003"
   },
   "source": [
    "Different data types in Python have specific rules for how they can be used together. Performing operations with incompatible data types can result in errors if the computer doesn't know how to perform it."
   ]
  },
  {
   "cell_type": "markdown",
   "id": "edf71839-14e4-4f6d-a856-0968ea7b0dab",
   "metadata": {
    "id": "edf71839-14e4-4f6d-a856-0968ea7b0dab"
   },
   "source": [
    "Data type casting in Python allows you to convert values from one type to another, as long as the computer knows how to do it (as long as it makes sense to do so). You can use the following functions for type conversion:\n",
    "\n",
    "- `int()`: Converts a value to an integer.\n",
    "- `float()`: Converts a value to a float.\n",
    "- `str()`: Converts a value to a string.\n",
    "- `bool()`: Converts a value to a boolean."
   ]
  },
  {
   "cell_type": "code",
   "execution_count": null,
   "id": "b149e36d",
   "metadata": {
    "colab": {
     "base_uri": "https://localhost:8080/"
    },
    "id": "b149e36d",
    "outputId": "7a63600b-cbb6-46dc-c2e2-a0773b5567ea"
   },
   "outputs": [
    {
     "data": {
      "text/plain": [
       "int"
      ]
     },
     "execution_count": 106,
     "metadata": {},
     "output_type": "execute_result"
    }
   ],
   "source": [
    "3.0\n",
    "int(3.0)\n",
    "type(int(3.0))"
   ]
  },
  {
   "cell_type": "code",
   "execution_count": null,
   "id": "-ULsH-fBet_D",
   "metadata": {
    "colab": {
     "base_uri": "https://localhost:8080/"
    },
    "id": "-ULsH-fBet_D",
    "outputId": "2a334e5a-5504-433c-b443-f5de7260171f"
   },
   "outputs": [
    {
     "data": {
      "text/plain": [
       "int"
      ]
     },
     "execution_count": 100,
     "metadata": {},
     "output_type": "execute_result"
    }
   ],
   "source": [
    "type(int('3'))"
   ]
  },
  {
   "cell_type": "code",
   "execution_count": null,
   "id": "4bFftAqpe_It",
   "metadata": {
    "colab": {
     "base_uri": "https://localhost:8080/",
     "height": 35
    },
    "id": "4bFftAqpe_It",
    "outputId": "efc0d441-fb13-4faa-e98e-0fa48f974b77"
   },
   "outputs": [
    {
     "data": {
      "application/vnd.google.colaboratory.intrinsic+json": {
       "type": "string"
      },
      "text/plain": [
       "'3'"
      ]
     },
     "execution_count": 104,
     "metadata": {},
     "output_type": "execute_result"
    }
   ],
   "source": [
    "str(3)"
   ]
  },
  {
   "cell_type": "code",
   "execution_count": null,
   "id": "__VDt4z3e7K_",
   "metadata": {
    "colab": {
     "base_uri": "https://localhost:8080/"
    },
    "id": "__VDt4z3e7K_",
    "outputId": "f805c292-007a-47d9-e20c-ade570f3624f"
   },
   "outputs": [
    {
     "data": {
      "text/plain": [
       "False"
      ]
     },
     "execution_count": 103,
     "metadata": {},
     "output_type": "execute_result"
    }
   ],
   "source": [
    "bool(0)"
   ]
  },
  {
   "cell_type": "code",
   "execution_count": null,
   "id": "BJp19maae0ml",
   "metadata": {
    "colab": {
     "base_uri": "https://localhost:8080/",
     "height": 141
    },
    "id": "BJp19maae0ml",
    "outputId": "3ff61e98-437b-4966-9a73-c2f6b6792eba"
   },
   "outputs": [
    {
     "ename": "ValueError",
     "evalue": "invalid literal for int() with base 10: 'hello'",
     "output_type": "error",
     "traceback": [
      "\u001b[0;31m---------------------------------------------------------------------------\u001b[0m",
      "\u001b[0;31mValueError\u001b[0m                                Traceback (most recent call last)",
      "\u001b[0;32m<ipython-input-101-1e0cfe654e81>\u001b[0m in \u001b[0;36m<cell line: 1>\u001b[0;34m()\u001b[0m\n\u001b[0;32m----> 1\u001b[0;31m \u001b[0mint\u001b[0m\u001b[0;34m(\u001b[0m\u001b[0;34m'hello'\u001b[0m\u001b[0;34m)\u001b[0m\u001b[0;34m\u001b[0m\u001b[0;34m\u001b[0m\u001b[0m\n\u001b[0m",
      "\u001b[0;31mValueError\u001b[0m: invalid literal for int() with base 10: 'hello'"
     ]
    }
   ],
   "source": [
    "int('hello')"
   ]
  },
  {
   "cell_type": "markdown",
   "id": "a8cbf612-31f9-4eb6-88ae-72e89fd9fa6b",
   "metadata": {
    "id": "a8cbf612-31f9-4eb6-88ae-72e89fd9fa6b",
    "tags": []
   },
   "source": [
    "## String methods and functions"
   ]
  },
  {
   "cell_type": "code",
   "execution_count": null,
   "id": "af594830",
   "metadata": {
    "colab": {
     "base_uri": "https://localhost:8080/"
    },
    "id": "af594830",
    "outputId": "cccc07c7-c9f8-4bdc-f5c3-a53d534eaed8"
   },
   "outputs": [
    {
     "data": {
      "text/plain": [
       "13"
      ]
     },
     "execution_count": 107,
     "metadata": {},
     "output_type": "execute_result"
    }
   ],
   "source": [
    "text = \"Hello, World!\"\n",
    "\n",
    "# Length of a string\n",
    "len(text)"
   ]
  },
  {
   "cell_type": "code",
   "execution_count": null,
   "id": "6c165da8",
   "metadata": {
    "colab": {
     "base_uri": "https://localhost:8080/",
     "height": 35
    },
    "id": "6c165da8",
    "outputId": "ab9dcac0-1231-4f63-bcf1-6c7758e06c26"
   },
   "outputs": [
    {
     "data": {
      "application/vnd.google.colaboratory.intrinsic+json": {
       "type": "string"
      },
      "text/plain": [
       "'Hello, World!'"
      ]
     },
     "execution_count": 110,
     "metadata": {},
     "output_type": "execute_result"
    }
   ],
   "source": [
    "# Lowercase and uppercase\n",
    "text.lower()\n",
    "text.upper()\n",
    "text.title()"
   ]
  },
  {
   "cell_type": "code",
   "execution_count": null,
   "id": "49IU4U0HfshR",
   "metadata": {
    "colab": {
     "base_uri": "https://localhost:8080/",
     "height": 35
    },
    "id": "49IU4U0HfshR",
    "outputId": "3842d103-3c25-4017-cd45-c02e951284fa"
   },
   "outputs": [
    {
     "data": {
      "application/vnd.google.colaboratory.intrinsic+json": {
       "type": "string"
      },
      "text/plain": [
       "'hello, hanif!'"
      ]
     },
     "execution_count": 114,
     "metadata": {},
     "output_type": "execute_result"
    }
   ],
   "source": [
    "text.title()\n",
    "text = \"hello, hanif!\"\n",
    "text"
   ]
  },
  {
   "cell_type": "code",
   "execution_count": null,
   "id": "044a7f27",
   "metadata": {
    "colab": {
     "base_uri": "https://localhost:8080/",
     "height": 35
    },
    "id": "044a7f27",
    "outputId": "cf17e272-9375-4030-8bf4-8ec267023427"
   },
   "outputs": [
    {
     "data": {
      "application/vnd.google.colaboratory.intrinsic+json": {
       "type": "string"
      },
      "text/plain": [
       "'this is an unclean text'"
      ]
     },
     "execution_count": 112,
     "metadata": {},
     "output_type": "execute_result"
    }
   ],
   "source": [
    "# Stripping whitespace\n",
    "text = \"  this is an unclean text  \"\n",
    "text.strip()"
   ]
  },
  {
   "cell_type": "code",
   "execution_count": null,
   "id": "5d4c5dc5",
   "metadata": {
    "id": "5d4c5dc5"
   },
   "outputs": [],
   "source": [
    "# Splitting and joining strings\n",
    "text = \"this is an unclean text\"\n",
    "words = text.split(\" \")"
   ]
  },
  {
   "cell_type": "code",
   "execution_count": null,
   "id": "hLtz1zD7gkOg",
   "metadata": {
    "colab": {
     "base_uri": "https://localhost:8080/",
     "height": 35
    },
    "id": "hLtz1zD7gkOg",
    "outputId": "a79d9405-618d-4908-e56c-4577565f1f61"
   },
   "outputs": [
    {
     "data": {
      "application/vnd.google.colaboratory.intrinsic+json": {
       "type": "string"
      },
      "text/plain": [
       "'this is an unclean text'"
      ]
     },
     "execution_count": 118,
     "metadata": {},
     "output_type": "execute_result"
    }
   ],
   "source": [
    "\" \".join(words)"
   ]
  },
  {
   "cell_type": "code",
   "execution_count": null,
   "id": "83945013",
   "metadata": {
    "colab": {
     "base_uri": "https://localhost:8080/",
     "height": 35
    },
    "id": "83945013",
    "outputId": "0ccb4f05-5548-4b27-bf56-cefaad770975"
   },
   "outputs": [
    {
     "data": {
      "application/vnd.google.colaboratory.intrinsic+json": {
       "type": "string"
      },
      "text/plain": [
       "'this is an unclean text'"
      ]
     },
     "execution_count": 121,
     "metadata": {},
     "output_type": "execute_result"
    }
   ],
   "source": [
    "# Replacing substrings\n",
    "text = \"this is @n uncl3an t3xt\"\n",
    "text.replace('3', 'e').replace(\"@\", 'a')"
   ]
  },
  {
   "cell_type": "code",
   "execution_count": null,
   "id": "Y0AKhLRhhUet",
   "metadata": {
    "colab": {
     "base_uri": "https://localhost:8080/"
    },
    "id": "Y0AKhLRhhUet",
    "outputId": "32de7ed8-ed28-4573-c07b-83a54af92089"
   },
   "outputs": [
    {
     "data": {
      "text/plain": [
       "{'3': 'e', '@': 'a'}"
      ]
     },
     "execution_count": 123,
     "metadata": {},
     "output_type": "execute_result"
    }
   ],
   "source": []
  },
  {
   "cell_type": "code",
   "execution_count": null,
   "id": "xw0-R0tghWy_",
   "metadata": {
    "id": "xw0-R0tghWy_"
   },
   "outputs": [],
   "source": [
    "a_dictionary = {'3': 'e', '@': 'a'}"
   ]
  },
  {
   "cell_type": "code",
   "execution_count": null,
   "id": "85f3ad16",
   "metadata": {
    "colab": {
     "base_uri": "https://localhost:8080/"
    },
    "id": "85f3ad16",
    "outputId": "7d5539d3-fb0c-4639-9bd1-233037e5d233"
   },
   "outputs": [
    {
     "data": {
      "text/plain": [
       "19"
      ]
     },
     "execution_count": 129,
     "metadata": {},
     "output_type": "execute_result"
    }
   ],
   "source": [
    "# Finding substrings\n",
    "text = \"this is an unclean text\"\n",
    "text.find(\"text\")\n",
    "len(\"this is an unclean \")"
   ]
  },
  {
   "cell_type": "code",
   "execution_count": null,
   "id": "df8bf53d",
   "metadata": {
    "colab": {
     "base_uri": "https://localhost:8080/"
    },
    "id": "df8bf53d",
    "outputId": "bd6c85ff-34b8-4de6-a76d-22e833c2c5c0"
   },
   "outputs": [
    {
     "data": {
      "text/plain": [
       "True"
      ]
     },
     "execution_count": 133,
     "metadata": {},
     "output_type": "execute_result"
    }
   ],
   "source": [
    "# Checking start and end of string\n",
    "text.startswith(\"that\")\n",
    "text.startswith(\"this\")\n",
    "text.endswith(\"that\")\n",
    "text.endswith(\"text\")"
   ]
  },
  {
   "cell_type": "markdown",
   "id": "c8e5fa40-7c11-4e77-9fd1-9dc90aa9dc99",
   "metadata": {
    "id": "c8e5fa40-7c11-4e77-9fd1-9dc90aa9dc99"
   },
   "source": [
    "### Formatting Strings"
   ]
  },
  {
   "cell_type": "markdown",
   "id": "e4962711-4fa0-45b3-b486-43ca59736b9a",
   "metadata": {
    "id": "e4962711-4fa0-45b3-b486-43ca59736b9a"
   },
   "source": [
    "Let's look at different ways to format strings in Python. String formatting allows you to incorporate variables or values into a string in a structured and readable manner.\n",
    "\n",
    "We'll look at three ways:\n",
    "\n",
    "1. The first example uses f-strings (formatted string literals), denoted by the 'f' at the beginning of the string. Inside the curly braces, you can include variables or expressions that will be evaluated and replaced with their respective values when the string is created."
   ]
  },
  {
   "cell_type": "code",
   "execution_count": null,
   "id": "39b2c29a-31ed-4473-9d59-923144e99631",
   "metadata": {
    "colab": {
     "base_uri": "https://localhost:8080/"
    },
    "id": "39b2c29a-31ed-4473-9d59-923144e99631",
    "outputId": "8dd55fd0-f7ae-42e6-d138-8e8001626044"
   },
   "outputs": [
    {
     "name": "stdout",
     "output_type": "stream",
     "text": [
      "The time is close to 22\n",
      "The time is close to 21\n"
     ]
    }
   ],
   "source": [
    "# best to use\n",
    "time = 21\n",
    "print(\"The time is close to 22\")\n",
    "print(f\"The time is close to {time}\")"
   ]
  },
  {
   "cell_type": "code",
   "execution_count": null,
   "id": "BD5zwt2wioZ3",
   "metadata": {
    "colab": {
     "base_uri": "https://localhost:8080/"
    },
    "id": "BD5zwt2wioZ3",
    "outputId": "61d48dbc-29b2-443e-8d12-3e6ae9325bf1"
   },
   "outputs": [
    {
     "name": "stdout",
     "output_type": "stream",
     "text": [
      "The time is close to 22\n",
      "The time is close to 21\n"
     ]
    }
   ],
   "source": [
    "# best to use\n",
    "start_time = 21\n",
    "print(\"The time is close to 22\")\n",
    "print(f\"The time is close to {start_time}\")"
   ]
  },
  {
   "cell_type": "markdown",
   "id": "22e6bc39-2e31-4c25-8e59-555351158f56",
   "metadata": {
    "id": "22e6bc39-2e31-4c25-8e59-555351158f56"
   },
   "source": [
    "2. The second example uses the `format` method to insert the value of the variable `name` into the string. Within the string, you will find a placeholder `{}` where the value will be placed. The `format` method is called on the string and takes the value to be inserted as an argument."
   ]
  },
  {
   "cell_type": "code",
   "execution_count": null,
   "id": "c1de1fa8-6f77-4d63-b891-0af08348848b",
   "metadata": {
    "colab": {
     "base_uri": "https://localhost:8080/",
     "height": 35
    },
    "id": "c1de1fa8-6f77-4d63-b891-0af08348848b",
    "outputId": "2c056dfb-3dc0-440b-ee03-6658f973d806"
   },
   "outputs": [
    {
     "data": {
      "application/vnd.google.colaboratory.intrinsic+json": {
       "type": "string"
      },
      "text/plain": [
       "'The time is close to 21 hours and 55 minutes. I am feeling tired'"
      ]
     },
     "execution_count": 138,
     "metadata": {},
     "output_type": "execute_result"
    }
   ],
   "source": [
    "# if your variable names are very long, makes sense to use\n",
    "hour = 21\n",
    "minute = 55\n",
    "feeling = \"tired\"\n",
    "\"The time is close to {} hours and {} minutes. I am feeling {}\".format(hour, minute, feeling)"
   ]
  },
  {
   "cell_type": "markdown",
   "id": "af664ac1-bc02-4910-9acf-6073796cd6c3",
   "metadata": {
    "id": "af664ac1-bc02-4910-9acf-6073796cd6c3"
   },
   "source": [
    "3. The third example demonstrates simple concatenation. The string \"Hello my name is\" is concatenated with a space and the variable `name` using the `+` operator."
   ]
  },
  {
   "cell_type": "code",
   "execution_count": null,
   "id": "b6520eb5-93fe-4eed-ad2f-4c311bf94c90",
   "metadata": {
    "colab": {
     "base_uri": "https://localhost:8080/",
     "height": 35
    },
    "id": "b6520eb5-93fe-4eed-ad2f-4c311bf94c90",
    "outputId": "00175b91-ac77-4b53-c7fd-41bdb09df03e"
   },
   "outputs": [
    {
     "data": {
      "application/vnd.google.colaboratory.intrinsic+json": {
       "type": "string"
      },
      "text/plain": [
       "'The time is close to 21 hours'"
      ]
     },
     "execution_count": 140,
     "metadata": {},
     "output_type": "execute_result"
    }
   ],
   "source": [
    "\"The time is close to \" + str(hour) + \" hours\""
   ]
  },
  {
   "cell_type": "markdown",
   "id": "3ff8ff64-1add-44a2-8c45-edd9e04d80dc",
   "metadata": {
    "id": "3ff8ff64-1add-44a2-8c45-edd9e04d80dc"
   },
   "source": [
    "### Input and output functions\n",
    "\n",
    "> Add blockquote\n",
    "\n",
    "\n",
    "\n",
    "Input and output are concepts in programming that allow us to interact with the user and display information on the screen. In Python, we commonly use the console as the standard input and output device.\n",
    "\n",
    "**Input**:\n",
    "To get input from the user, we use the `input()` function. It displays a message on the console and waits for the user to enter a value. The value entered by the user is returned as a **string**.\n",
    "\n",
    "Here's an example:\n",
    "```python\n",
    "name = input(\"Enter your name: \")\n",
    "print(\"Hello, \" + name + \"!\")\n",
    "```\n",
    "In this example, the `input()` function displays the message \"Enter your name: \" on the console. The user can then enter their name, and the input is assigned to the variable `name`. Finally, the program prints a greeting message using the entered name.\n",
    "\n",
    "**Output**:\n",
    "To display information or results on the console, we use the `print()` function. It takes one or more values as arguments (**strings**) and displays them as output.\n",
    "\n",
    "Here's an example:\n",
    "```python\n",
    "age = 25\n",
    "print(\"Your age is:\", age)\n",
    "```\n",
    "In this example, the `print()` function displays the string \"Your age is:\" followed by the value of the `age` variable. The output will be \"Your age is: 25\".\n",
    "\n",
    "You can also format the output using placeholders or string concatenation, as shown in the previous examples."
   ]
  },
  {
   "cell_type": "code",
   "execution_count": null,
   "id": "764e181e",
   "metadata": {
    "colab": {
     "base_uri": "https://localhost:8080/"
    },
    "id": "764e181e",
    "outputId": "46e61ae5-1863-4842-d900-92cc9128a4ac"
   },
   "outputs": [
    {
     "name": "stdout",
     "output_type": "stream",
     "text": [
      "Sabina\n"
     ]
    }
   ],
   "source": [
    "# input string\n",
    "name = input()"
   ]
  },
  {
   "cell_type": "code",
   "execution_count": null,
   "id": "iS8csTqukTHQ",
   "metadata": {
    "colab": {
     "base_uri": "https://localhost:8080/",
     "height": 35
    },
    "id": "iS8csTqukTHQ",
    "outputId": "bb43fc71-6d48-4055-e3f0-10c9a7161d16"
   },
   "outputs": [
    {
     "data": {
      "application/vnd.google.colaboratory.intrinsic+json": {
       "type": "string"
      },
      "text/plain": [
       "'Sabina'"
      ]
     },
     "execution_count": 142,
     "metadata": {},
     "output_type": "execute_result"
    }
   ],
   "source": [
    "name"
   ]
  },
  {
   "cell_type": "code",
   "execution_count": null,
   "id": "aa81f9d0",
   "metadata": {
    "colab": {
     "base_uri": "https://localhost:8080/"
    },
    "id": "aa81f9d0",
    "outputId": "757c7483-80c7-4c66-8377-232adac13df4"
   },
   "outputs": [
    {
     "name": "stdout",
     "output_type": "stream",
     "text": [
      "1500\n"
     ]
    }
   ],
   "source": [
    "# input int - year of birth\n",
    "yob = input()"
   ]
  },
  {
   "cell_type": "code",
   "execution_count": null,
   "id": "9vVleEWJkbLg",
   "metadata": {
    "colab": {
     "base_uri": "https://localhost:8080/"
    },
    "id": "9vVleEWJkbLg",
    "outputId": "a3a82bc5-35a9-4534-fe56-4c4781557e14"
   },
   "outputs": [
    {
     "name": "stdout",
     "output_type": "stream",
     "text": [
      "1500\n"
     ]
    }
   ],
   "source": [
    "print(yob)"
   ]
  },
  {
   "cell_type": "code",
   "execution_count": null,
   "id": "QAMbglH-kdH_",
   "metadata": {
    "colab": {
     "base_uri": "https://localhost:8080/"
    },
    "id": "QAMbglH-kdH_",
    "outputId": "867660da-130a-4529-de11-f891080f1f48"
   },
   "outputs": [
    {
     "name": "stdout",
     "output_type": "stream",
     "text": [
      "524\n"
     ]
    }
   ],
   "source": [
    "age = 2024 - 1500\n",
    "print(age)"
   ]
  },
  {
   "cell_type": "code",
   "execution_count": null,
   "id": "afcc970c",
   "metadata": {
    "id": "afcc970c"
   },
   "outputs": [],
   "source": [
    "# input int correct - year of birth"
   ]
  },
  {
   "cell_type": "markdown",
   "id": "56148c6d-d9c7-4b30-9223-8e5532c48423",
   "metadata": {
    "id": "56148c6d-d9c7-4b30-9223-8e5532c48423"
   },
   "source": [
    "When using the `print()` function in Python, it's important to note that it does not have a return value. If you assign the result of a `print()` statement to a variable or return it in a function, the value will be `None`."
   ]
  },
  {
   "cell_type": "markdown",
   "id": "650b4a94-6a3e-4a82-9359-c53d92766a7e",
   "metadata": {
    "id": "650b4a94-6a3e-4a82-9359-c53d92766a7e"
   },
   "source": [
    "### 💡 Check for understanding\n",
    "\n",
    "Create a program that asks the user to enter their age. The program should then calculate and display the user's age after 10 years.\n",
    "\n",
    "Instructions:\n",
    "1. Prompt the user to enter their age using the `input()` function and store it in a variable.\n",
    "2. Convert the user's input from a string to an integer using the `int()` function and store it in another variable.\n",
    "3. Add 10 to the user's age using the `+` operator and store the result in a third variable.\n",
    "4. Display the user's age after 10 years by printing the result.\n",
    "\n",
    "Example Output:\n",
    "Enter your age: 25\n",
    "Your age after 10 years: 35\n",
    "\n",
    "Note: Ensure that you handle any potential errors related to casting."
   ]
  },
  {
   "cell_type": "code",
   "execution_count": 61,
   "id": "7f52e656-21a5-412a-b56a-0f8805366f49",
   "metadata": {
    "id": "7f52e656-21a5-412a-b56a-0f8805366f49"
   },
   "outputs": [
    {
     "name": "stdin",
     "output_type": "stream",
     "text": [
      "please enter your age 35\n"
     ]
    },
    {
     "name": "stdout",
     "output_type": "stream",
     "text": [
      "your age is: 35\n"
     ]
    }
   ],
   "source": [
    "age = input (\"please enter your age\")\n",
    "print(\"your age is:\",age)"
   ]
  },
  {
   "cell_type": "code",
   "execution_count": 63,
   "id": "a1cd5138-609f-49d6-a544-a8fc2eef4d56",
   "metadata": {},
   "outputs": [
    {
     "data": {
      "text/plain": [
       "'35'"
      ]
     },
     "execution_count": 63,
     "metadata": {},
     "output_type": "execute_result"
    }
   ],
   "source": [
    "age"
   ]
  },
  {
   "cell_type": "code",
   "execution_count": 71,
   "id": "917278c0-8838-4416-b0b8-7dd4b07a69af",
   "metadata": {},
   "outputs": [
    {
     "name": "stdin",
     "output_type": "stream",
     "text": [
      "please enter your age: 35\n"
     ]
    }
   ],
   "source": [
    "age_str = input(\"please enter your age:\")\n",
    "age_int = int(age_str)"
   ]
  },
  {
   "cell_type": "code",
   "execution_count": 73,
   "id": "1cfc3860-270c-4456-8e11-26bc525588e3",
   "metadata": {},
   "outputs": [
    {
     "name": "stdin",
     "output_type": "stream",
     "text": [
      "please enter your age: thirty five\n"
     ]
    },
    {
     "name": "stdout",
     "output_type": "stream",
     "text": [
      "please enter a valid number for your age.\n"
     ]
    }
   ],
   "source": [
    "try:\n",
    "    age_str = input(\"please enter your age:\")\n",
    "    age_int = int(age_str)\n",
    "    print(\"your integer age is:\",age_int) \n",
    "except ValueError:\n",
    "    print(\"please enter a valid number for your age.\")\n"
   ]
  },
  {
   "cell_type": "code",
   "execution_count": 75,
   "id": "77ebd557-d83c-4b1f-be26-c39e3aaccb05",
   "metadata": {},
   "outputs": [
    {
     "name": "stdin",
     "output_type": "stream",
     "text": [
      "please enter your age: 35\n"
     ]
    },
    {
     "name": "stdout",
     "output_type": "stream",
     "text": [
      "your integer age is: 35\n"
     ]
    }
   ],
   "source": [
    "try:\n",
    "    age_str = input(\"please enter your age:\")\n",
    "    age_int = int(age_str)\n",
    "    print(\"your integer age is:\",age_int) \n",
    "except ValueError:\n",
    "    print(\"please enter a valid number for your age.\")"
   ]
  },
  {
   "cell_type": "code",
   "execution_count": 87,
   "id": "d8498d80-b405-4605-8346-d8d9df4e2854",
   "metadata": {},
   "outputs": [
    {
     "name": "stdin",
     "output_type": "stream",
     "text": [
      "please enter your age: 35\n"
     ]
    },
    {
     "name": "stdout",
     "output_type": "stream",
     "text": [
      "your age is: 35\n"
     ]
    }
   ],
   "source": [
    "age = input(\"please enter your age:\")\n",
    "print(\"your age is:\",age)"
   ]
  },
  {
   "cell_type": "code",
   "execution_count": 93,
   "id": "91ed3e98-13c5-4ea0-b8f0-2fa4d6046eb3",
   "metadata": {},
   "outputs": [
    {
     "name": "stdin",
     "output_type": "stream",
     "text": [
      "please enter your age: 35\n"
     ]
    },
    {
     "ename": "TypeError",
     "evalue": "unsupported operand type(s) for +: 'int' and 'str'",
     "output_type": "error",
     "traceback": [
      "\u001b[1;31m---------------------------------------------------------------------------\u001b[0m",
      "\u001b[1;31mTypeError\u001b[0m                                 Traceback (most recent call last)",
      "Cell \u001b[1;32mIn[93], line 2\u001b[0m\n\u001b[0;32m      1\u001b[0m age \u001b[38;5;241m=\u001b[39m \u001b[38;5;28minput\u001b[39m(\u001b[38;5;124m\"\u001b[39m\u001b[38;5;124mplease enter your age:\u001b[39m\u001b[38;5;124m\"\u001b[39m)\n\u001b[1;32m----> 2\u001b[0m \u001b[38;5;28mprint\u001b[39m(\u001b[38;5;124m\"\u001b[39m\u001b[38;5;124mage\u001b[39m\u001b[38;5;124m\"\u001b[39m, \u001b[38;5;241m+\u001b[39m \u001b[38;5;241m10\u001b[39m \u001b[38;5;241m+\u001b[39m \u001b[38;5;124m\"\u001b[39m\u001b[38;5;124m!\u001b[39m\u001b[38;5;124m\"\u001b[39m)\n",
      "\u001b[1;31mTypeError\u001b[0m: unsupported operand type(s) for +: 'int' and 'str'"
     ]
    }
   ],
   "source": [
    "age = input(\"please enter your age:\")\n",
    "print(\"age\", + 10 + \"!\")"
   ]
  },
  {
   "cell_type": "code",
   "execution_count": 97,
   "id": "08e9a7b8-0f7b-4c12-971f-d1cd2a3c800f",
   "metadata": {},
   "outputs": [
    {
     "ename": "SyntaxError",
     "evalue": "invalid syntax. Perhaps you forgot a comma? (1342295872.py, line 4)",
     "output_type": "error",
     "traceback": [
      "\u001b[1;36m  Cell \u001b[1;32mIn[97], line 4\u001b[1;36m\u001b[0m\n\u001b[1;33m    print(\"your age in 10 year will be:\"age_plus)\u001b[0m\n\u001b[1;37m          ^\u001b[0m\n\u001b[1;31mSyntaxError\u001b[0m\u001b[1;31m:\u001b[0m invalid syntax. Perhaps you forgot a comma?\n"
     ]
    }
   ],
   "source": [
    "age_str = input(\"please enter your age:\")\n",
    "age_int = int(age_str)\n",
    "age_plus = age_int + 10\n",
    "print(\"your age in 10 year will be:\"age_plus)"
   ]
  },
  {
   "cell_type": "code",
   "execution_count": 101,
   "id": "a07c3197-4018-4b28-b92b-18abd850ecad",
   "metadata": {},
   "outputs": [
    {
     "name": "stdin",
     "output_type": "stream",
     "text": [
      "please enter your age: 35\n"
     ]
    },
    {
     "name": "stdout",
     "output_type": "stream",
     "text": [
      "your age in 10, year will be: 45\n"
     ]
    }
   ],
   "source": [
    "age_str = input(\"please enter your age:\")\n",
    "age_int = int(age_str)\n",
    "age_plus = age_int + 10\n",
    "print(\"Your age is:, year will be:\", age_plus)"
   ]
  },
  {
   "cell_type": "markdown",
   "id": "5299fd13-4e98-45c7-84f2-48a5538bead3",
   "metadata": {
    "id": "5299fd13-4e98-45c7-84f2-48a5538bead3",
    "tags": []
   },
   "source": [
    "## Data structures    "
   ]
  },
  {
   "cell_type": "markdown",
   "id": "58ae4a1d-6039-4f07-b159-9df5fcd2f78e",
   "metadata": {
    "id": "58ae4a1d-6039-4f07-b159-9df5fcd2f78e"
   },
   "source": [
    "Data structures are fundamental components in programming that provide a way to manage and **work with collections of values** or entities."
   ]
  },
  {
   "cell_type": "markdown",
   "id": "7f2bedf8-c0fc-4456-b75f-b0347a4e7256",
   "metadata": {
    "id": "7f2bedf8-c0fc-4456-b75f-b0347a4e7256"
   },
   "source": [
    "Data structures in Python can be categorized as either mutable or immutable.\n",
    "\n",
    "- **Mutable** data structures, like lists, dictionaries, and sets, can be modified after they are created.\n",
    "- **Immutable** data structures, such as strings and tuples, cannot be changed once defined."
   ]
  },
  {
   "cell_type": "markdown",
   "id": "0e14084d-5a12-43ab-a188-4fd74344529d",
   "metadata": {
    "id": "0e14084d-5a12-43ab-a188-4fd74344529d"
   },
   "source": [
    "Python Data Structures:\n",
    "- **Lists**: Ordered, mutable collections that store elements of different types and allow indexing, appending, removing, and modifying. [ ]\n",
    "- **Dictionaries**: Ordered (from Python 3.6), mutable key-value pairs for efficient lookup and organization of data. { }\n",
    "- **Sets**: Unordered, mutable collections of unique elements with set operations like union and intersection. { }\n",
    "- **Tuples**: Ordered, immutable collections commonly used for fixed values. ( )"
   ]
  },
  {
   "cell_type": "markdown",
   "id": "4d1afcd5-c5df-4997-986c-7dcf26773a75",
   "metadata": {
    "id": "4d1afcd5-c5df-4997-986c-7dcf26773a75"
   },
   "source": [
    "### Lists"
   ]
  },
  {
   "cell_type": "markdown",
   "id": "ee2daf21-6f62-4894-b26e-1daf7cca89cb",
   "metadata": {
    "id": "ee2daf21-6f62-4894-b26e-1daf7cca89cb"
   },
   "source": [
    "To create a list, you can simply assign a sequence of elements to a variable using the square brackets notation."
   ]
  },
  {
   "cell_type": "code",
   "execution_count": null,
   "id": "7e458d22-4aa7-433d-a4c1-2acf4e499df5",
   "metadata": {
    "colab": {
     "base_uri": "https://localhost:8080/"
    },
    "id": "7e458d22-4aa7-433d-a4c1-2acf4e499df5",
    "outputId": "d45ddf20-c0af-48b2-bc79-58a70183a453"
   },
   "outputs": [
    {
     "data": {
      "text/plain": [
       "list"
      ]
     },
     "execution_count": 148,
     "metadata": {},
     "output_type": "execute_result"
    }
   ],
   "source": [
    "# list/variable naming convention\n",
    "type([1, 2, 3])\n",
    "# list and []"
   ]
  },
  {
   "cell_type": "code",
   "execution_count": null,
   "id": "a25fg2f1lQn5",
   "metadata": {
    "id": "a25fg2f1lQn5"
   },
   "outputs": [],
   "source": [
    "type([1, 2, 3])"
   ]
  },
  {
   "cell_type": "code",
   "execution_count": null,
   "id": "496d75ce",
   "metadata": {
    "colab": {
     "base_uri": "https://localhost:8080/"
    },
    "id": "496d75ce",
    "outputId": "937eccbe-4a8d-4e2a-b93f-525c74bdb8bf"
   },
   "outputs": [
    {
     "data": {
      "text/plain": [
       "['anything', 1, True, 3.0]"
      ]
     },
     "execution_count": 149,
     "metadata": {},
     "output_type": "execute_result"
    }
   ],
   "source": [
    "# Lists can hold elements of different type\n",
    "[\"anything\", 1, True, 3.0]"
   ]
  },
  {
   "cell_type": "markdown",
   "id": "247eb050-d743-4747-b10b-34ffaddc5333",
   "metadata": {
    "id": "247eb050-d743-4747-b10b-34ffaddc5333"
   },
   "source": [
    "#### Indexing and slicing"
   ]
  },
  {
   "cell_type": "markdown",
   "id": "d52e7632-b450-413f-934d-9a17af6e0bbf",
   "metadata": {
    "id": "d52e7632-b450-413f-934d-9a17af6e0bbf"
   },
   "source": [
    "In Python, indexing allows you to access elements within a list using their unique index values. Indexing syntax is as follows:\n",
    "\n",
    "```python\n",
    "list_name[index]\n",
    "```\n",
    "\n",
    "The index starts from 0 for the first element and can also be negative to refer to elements from the end of the list (e.g., -1 for the last element)."
   ]
  },
  {
   "cell_type": "markdown",
   "id": "72cb0ec6-7a8d-436c-af9e-860ec95df4c7",
   "metadata": {
    "id": "72cb0ec6-7a8d-436c-af9e-860ec95df4c7"
   },
   "source": [
    "##### Slicing"
   ]
  },
  {
   "cell_type": "markdown",
   "id": "d31d9634-14ca-4ced-8e0e-ad16ce634a80",
   "metadata": {
    "id": "d31d9634-14ca-4ced-8e0e-ad16ce634a80"
   },
   "source": [
    "In Python, slicing allows you to extract a portion of a sequence using the syntax `sequence[start:end:step]`. The `start` index is inclusive, the `end` index is exclusive, and the `step` value (optional) controls the increment between elements in the slice.\n",
    "\n",
    "Note that if you omit a value, such as `x[:stop]`, it is automatically replaced with a default value: the first element for `start`, the last element for `end`, and `1` for `step`."
   ]
  },
  {
   "cell_type": "markdown",
   "id": "836a8d24-29ff-4cc6-89e6-562a1ce789e4",
   "metadata": {
    "id": "836a8d24-29ff-4cc6-89e6-562a1ce789e4"
   },
   "source": [
    "<img src=\"https://education-team-2020.s3-eu-west-1.amazonaws.com/data-analytics/prework/unit1/zero_based_indexing_python.png\" width=400 height=400>"
   ]
  },
  {
   "cell_type": "code",
   "execution_count": null,
   "id": "Xbk128V2mv3h",
   "metadata": {
    "id": "Xbk128V2mv3h"
   },
   "outputs": [],
   "source": []
  },
  {
   "cell_type": "code",
   "execution_count": null,
   "id": "zTsW-udAltgL",
   "metadata": {
    "colab": {
     "base_uri": "https://localhost:8080/"
    },
    "id": "zTsW-udAltgL",
    "outputId": "1f7e673a-b111-4a28-8dae-4ffcad27fea7"
   },
   "outputs": [
    {
     "data": {
      "text/plain": [
       "['Monty', 'Python']"
      ]
     },
     "execution_count": 154,
     "metadata": {},
     "output_type": "execute_result"
    }
   ],
   "source": [
    "text_list = text.split()\n",
    "text_list"
   ]
  },
  {
   "cell_type": "code",
   "execution_count": null,
   "id": "mQvNzcMWmEsf",
   "metadata": {
    "colab": {
     "base_uri": "https://localhost:8080/",
     "height": 35
    },
    "id": "mQvNzcMWmEsf",
    "outputId": "2333bf76-c417-4e55-81d4-b242696ecda1"
   },
   "outputs": [
    {
     "data": {
      "application/vnd.google.colaboratory.intrinsic+json": {
       "type": "string"
      },
      "text/plain": [
       "'n'"
      ]
     },
     "execution_count": 157,
     "metadata": {},
     "output_type": "execute_result"
    }
   ],
   "source": [
    "monty_list = ['M', 'o', 'n', 't', 'y']\n",
    "monty_list[2]"
   ]
  },
  {
   "cell_type": "code",
   "execution_count": null,
   "id": "OUERA-8OmVfG",
   "metadata": {
    "colab": {
     "base_uri": "https://localhost:8080/"
    },
    "id": "OUERA-8OmVfG",
    "outputId": "9918fb09-fcef-473a-d7bb-047d246ed3c5"
   },
   "outputs": [
    {
     "data": {
      "text/plain": [
       "['o', 'n']"
      ]
     },
     "execution_count": 161,
     "metadata": {},
     "output_type": "execute_result"
    }
   ],
   "source": [
    "monty_list[1:3]"
   ]
  },
  {
   "cell_type": "code",
   "execution_count": null,
   "id": "NnE9PEh-l6hE",
   "metadata": {
    "colab": {
     "base_uri": "https://localhost:8080/",
     "height": 35
    },
    "id": "NnE9PEh-l6hE",
    "outputId": "e9594b6e-30eb-4295-a1b4-95d194b795cf"
   },
   "outputs": [
    {
     "data": {
      "application/vnd.google.colaboratory.intrinsic+json": {
       "type": "string"
      },
      "text/plain": [
       "'Python'"
      ]
     },
     "execution_count": 155,
     "metadata": {},
     "output_type": "execute_result"
    }
   ],
   "source": [
    "text_list[1]"
   ]
  },
  {
   "cell_type": "code",
   "execution_count": null,
   "id": "e33d27d0",
   "metadata": {
    "colab": {
     "base_uri": "https://localhost:8080/",
     "height": 35
    },
    "id": "e33d27d0",
    "outputId": "a426976e-1b7e-4b67-8cad-58ed83a44f59"
   },
   "outputs": [
    {
     "data": {
      "application/vnd.google.colaboratory.intrinsic+json": {
       "type": "string"
      },
      "text/plain": [
       "'y'"
      ]
     },
     "execution_count": 151,
     "metadata": {},
     "output_type": "execute_result"
    }
   ],
   "source": [
    "text = \"Monty Python\"\n",
    "text[7]"
   ]
  },
  {
   "cell_type": "code",
   "execution_count": null,
   "id": "sOq54UeYmxiq",
   "metadata": {
    "colab": {
     "base_uri": "https://localhost:8080/",
     "height": 35
    },
    "id": "sOq54UeYmxiq",
    "outputId": "91c996bf-4ba9-4659-b7e7-8648c4dae9f1"
   },
   "outputs": [
    {
     "data": {
      "application/vnd.google.colaboratory.intrinsic+json": {
       "type": "string"
      },
      "text/plain": [
       "'on'"
      ]
     },
     "execution_count": 169,
     "metadata": {},
     "output_type": "execute_result"
    }
   ],
   "source": [
    "text[-2:]"
   ]
  },
  {
   "cell_type": "code",
   "execution_count": null,
   "id": "W8O2GpUGnKfA",
   "metadata": {
    "colab": {
     "base_uri": "https://localhost:8080/",
     "height": 35
    },
    "id": "W8O2GpUGnKfA",
    "outputId": "5fe34953-25b3-4288-9d44-b3092ae0624b"
   },
   "outputs": [
    {
     "data": {
      "application/vnd.google.colaboratory.intrinsic+json": {
       "type": "string"
      },
      "text/plain": [
       "''"
      ]
     },
     "execution_count": 171,
     "metadata": {},
     "output_type": "execute_result"
    }
   ],
   "source": [
    "text[-1:-2]"
   ]
  },
  {
   "cell_type": "markdown",
   "id": "4046120b-1143-4979-84f3-7e65e656bb9c",
   "metadata": {
    "id": "4046120b-1143-4979-84f3-7e65e656bb9c"
   },
   "source": [
    "#### Modifying List Elements\n",
    "\n",
    "Lists are mutable, meaning you can modify their elements after creation. You can assign new values to specific elements using their index."
   ]
  },
  {
   "cell_type": "code",
   "execution_count": null,
   "id": "02c65c42-e5e6-4382-ae11-508a3b7b04e5",
   "metadata": {
    "id": "02c65c42-e5e6-4382-ae11-508a3b7b04e5"
   },
   "outputs": [],
   "source": []
  },
  {
   "cell_type": "markdown",
   "id": "d2750a99-22c5-4d89-9043-10062b5c7c01",
   "metadata": {
    "id": "d2750a99-22c5-4d89-9043-10062b5c7c01"
   },
   "source": [
    "#### List Operators and functions\n",
    "\n",
    "Lists support various operations, such as concatenation (+) to combine two lists or repetition (*) to repeat a list."
   ]
  },
  {
   "cell_type": "code",
   "execution_count": 105,
   "id": "e322817e-499f-48f7-be5b-17bfdf948104",
   "metadata": {
    "id": "e322817e-499f-48f7-be5b-17bfdf948104"
   },
   "outputs": [],
   "source": [
    "my_list = [1, 2, 3]"
   ]
  },
  {
   "cell_type": "code",
   "execution_count": 107,
   "id": "0be98248",
   "metadata": {
    "id": "0be98248"
   },
   "outputs": [],
   "source": [
    "# len() gives the number of elements in the list."
   ]
  },
  {
   "cell_type": "code",
   "execution_count": 111,
   "id": "075867ad-b1b8-421c-b04f-348ff4aea8eb",
   "metadata": {},
   "outputs": [
    {
     "data": {
      "text/plain": [
       "3"
      ]
     },
     "execution_count": 111,
     "metadata": {},
     "output_type": "execute_result"
    }
   ],
   "source": [
    "len(my_list)"
   ]
  },
  {
   "cell_type": "code",
   "execution_count": null,
   "id": "aaf0fbbe",
   "metadata": {
    "id": "aaf0fbbe"
   },
   "outputs": [],
   "source": [
    "# append() adds an element at the end of the list"
   ]
  },
  {
   "cell_type": "code",
   "execution_count": 119,
   "id": "b44a7c55-e282-4c0a-a79e-d166084c45e5",
   "metadata": {},
   "outputs": [
    {
     "name": "stdout",
     "output_type": "stream",
     "text": [
      "[1, 2, 3, 5]\n"
     ]
    }
   ],
   "source": [
    "my_list.append(5)\n",
    "print(my_list)"
   ]
  },
  {
   "cell_type": "code",
   "execution_count": null,
   "id": "e66289c0",
   "metadata": {
    "id": "e66289c0"
   },
   "outputs": [],
   "source": [
    "# insert() inserts an element in a position"
   ]
  },
  {
   "cell_type": "code",
   "execution_count": 125,
   "id": "de0db39a-f8fe-4f9c-b981-f965ad50cace",
   "metadata": {},
   "outputs": [
    {
     "name": "stdout",
     "output_type": "stream",
     "text": [
      "[1, 2, 3, 4]\n"
     ]
    }
   ],
   "source": [
    "my_list = [1,2,3]\n",
    "my_list.insert(3, 4)\n",
    "print(my_list)"
   ]
  },
  {
   "cell_type": "code",
   "execution_count": null,
   "id": "46aa283e",
   "metadata": {
    "id": "46aa283e"
   },
   "outputs": [],
   "source": [
    "# remove() removes an element"
   ]
  },
  {
   "cell_type": "code",
   "execution_count": 129,
   "id": "23f2cebb-8cb5-4951-aced-573c36ae16c8",
   "metadata": {},
   "outputs": [
    {
     "name": "stdout",
     "output_type": "stream",
     "text": [
      "[1, 3, 4]\n"
     ]
    }
   ],
   "source": [
    "my_list = [1,2,3,4]\n",
    "my_list.remove(2)\n",
    "print(my_list)"
   ]
  },
  {
   "cell_type": "code",
   "execution_count": null,
   "id": "30c7d131",
   "metadata": {
    "id": "30c7d131"
   },
   "outputs": [],
   "source": [
    "# pop() removes an element and returns it"
   ]
  },
  {
   "cell_type": "code",
   "execution_count": 131,
   "id": "7f2d2ec5-e48a-4b7f-80ef-b4d3d062696e",
   "metadata": {},
   "outputs": [
    {
     "name": "stdout",
     "output_type": "stream",
     "text": [
      "[1, 4]\n"
     ]
    }
   ],
   "source": [
    "index = 2\n",
    "my_list.pop(1)\n",
    "print(my_list)"
   ]
  },
  {
   "cell_type": "code",
   "execution_count": null,
   "id": "eeab1d29",
   "metadata": {
    "id": "eeab1d29"
   },
   "outputs": [],
   "source": [
    "# index() returns the index at which that element is"
   ]
  },
  {
   "cell_type": "code",
   "execution_count": 133,
   "id": "cff49552-230f-449d-96d4-15820e54d679",
   "metadata": {},
   "outputs": [
    {
     "ename": "SyntaxError",
     "evalue": "invalid syntax (3785250420.py, line 2)",
     "output_type": "error",
     "traceback": [
      "\u001b[1;36m  Cell \u001b[1;32mIn[133], line 2\u001b[1;36m\u001b[0m\n\u001b[1;33m    my_list.return(1)\u001b[0m\n\u001b[1;37m            ^\u001b[0m\n\u001b[1;31mSyntaxError\u001b[0m\u001b[1;31m:\u001b[0m invalid syntax\n"
     ]
    }
   ],
   "source": [
    "index = 2\n",
    "my_list.return(1)\n",
    "print(my_list)"
   ]
  },
  {
   "cell_type": "code",
   "execution_count": 141,
   "id": "82ae6479-2aac-4a6c-8883-b1d6a7bf3358",
   "metadata": {},
   "outputs": [
    {
     "name": "stdout",
     "output_type": "stream",
     "text": [
      "0\n"
     ]
    }
   ],
   "source": [
    "my_list = [1, 4]\n",
    "index_of_1 = my_list.index(1)\n",
    "print(index_of_1)"
   ]
  },
  {
   "cell_type": "code",
   "execution_count": null,
   "id": "bb62246b",
   "metadata": {
    "id": "bb62246b"
   },
   "outputs": [],
   "source": [
    "# sort() sorts the list in ascending order"
   ]
  },
  {
   "cell_type": "code",
   "execution_count": 143,
   "id": "b9d34a35-2593-452b-b9b7-744dd9ab9e28",
   "metadata": {},
   "outputs": [
    {
     "name": "stdout",
     "output_type": "stream",
     "text": [
      "the sorted my_list ist: [1, 4]\n"
     ]
    }
   ],
   "source": [
    "my_list.sort\n",
    "print(\"the sorted my_list ist:\",my_list)"
   ]
  },
  {
   "cell_type": "code",
   "execution_count": null,
   "id": "f587acf3",
   "metadata": {
    "id": "f587acf3"
   },
   "outputs": [],
   "source": [
    "# min(), max()"
   ]
  },
  {
   "cell_type": "code",
   "execution_count": 149,
   "id": "7d5012df-6109-4848-ad70-423db66a35eb",
   "metadata": {},
   "outputs": [
    {
     "name": "stdout",
     "output_type": "stream",
     "text": [
      "1\n"
     ]
    }
   ],
   "source": [
    "my_list = [1, 4]\n",
    "print(min(my_list))"
   ]
  },
  {
   "cell_type": "code",
   "execution_count": 151,
   "id": "ff478a03-5e9d-4c52-adc9-f24d87989886",
   "metadata": {},
   "outputs": [
    {
     "name": "stdout",
     "output_type": "stream",
     "text": [
      "4\n"
     ]
    }
   ],
   "source": [
    "my_list = [1, 4]\n",
    "print(max(my_list))"
   ]
  },
  {
   "cell_type": "markdown",
   "id": "a18f13da-24e3-4d49-a992-df63e7802495",
   "metadata": {
    "id": "a18f13da-24e3-4d49-a992-df63e7802495"
   },
   "source": [
    "#### 💡 Check for understanding\n",
    "\n",
    "Look at the error we get if we execute the following line again. Why do you think it is?"
   ]
  },
  {
   "cell_type": "code",
   "execution_count": 153,
   "id": "5988d2f1-cdf3-4354-a88d-bf0cdf6c3550",
   "metadata": {
    "id": "5988d2f1-cdf3-4354-a88d-bf0cdf6c3550"
   },
   "outputs": [
    {
     "ename": "ValueError",
     "evalue": "list.remove(x): x not in list",
     "output_type": "error",
     "traceback": [
      "\u001b[1;31m---------------------------------------------------------------------------\u001b[0m",
      "\u001b[1;31mValueError\u001b[0m                                Traceback (most recent call last)",
      "Cell \u001b[1;32mIn[153], line 1\u001b[0m\n\u001b[1;32m----> 1\u001b[0m my_list\u001b[38;5;241m.\u001b[39mremove(\u001b[38;5;241m3\u001b[39m)\n",
      "\u001b[1;31mValueError\u001b[0m: list.remove(x): x not in list"
     ]
    }
   ],
   "source": [
    "my_list.remove(3)"
   ]
  },
  {
   "cell_type": "code",
   "execution_count": 155,
   "id": "b8abd190-21ed-44d8-b66c-e33331334f5f",
   "metadata": {
    "id": "b8abd190-21ed-44d8-b66c-e33331334f5f"
   },
   "outputs": [],
   "source": [
    "my_list.remove(1)"
   ]
  },
  {
   "cell_type": "markdown",
   "id": "f6854f7a-87c4-4954-8f27-b70e2b2207e6",
   "metadata": {
    "id": "f6854f7a-87c4-4954-8f27-b70e2b2207e6"
   },
   "source": [
    "Note: The method `sort()` is a list method that sorts the list in-place, while the function `sorted()` is a built-in Python function that returns a new sorted list without modifying the original list."
   ]
  },
  {
   "cell_type": "markdown",
   "id": "41b4719e-5d86-4eb7-ac6d-c103f210420f",
   "metadata": {
    "id": "41b4719e-5d86-4eb7-ac6d-c103f210420f"
   },
   "source": [
    "### Dictionaries"
   ]
  },
  {
   "cell_type": "markdown",
   "id": "31594a7d-b5d4-480c-94bc-8657361b9b12",
   "metadata": {
    "id": "31594a7d-b5d4-480c-94bc-8657361b9b12"
   },
   "source": [
    "In Python, dictionaries are created using curly braces {} and consist of key-value pairs separated by commas. Keys in a dictionary must be unique, and if a key already exists, assigning a new value to that key will overwrite the existing value."
   ]
  },
  {
   "cell_type": "code",
   "execution_count": 207,
   "id": "2fe5eb48",
   "metadata": {
    "id": "2fe5eb48"
   },
   "outputs": [],
   "source": [
    "# Lets add two 'John' keys with different values\n",
    "contacts = {'John': '312-555-1234', 'John': '111-111-1234', 'Paul': '312-555-3123', 'George': '312-555-3333', 'Ringo': '312-555-2222'}"
   ]
  },
  {
   "cell_type": "markdown",
   "id": "6dc7b2bd-e15f-4f9d-8702-906dd24f39c7",
   "metadata": {
    "id": "6dc7b2bd-e15f-4f9d-8702-906dd24f39c7"
   },
   "source": [
    "#### Accessing values using the keys"
   ]
  },
  {
   "cell_type": "markdown",
   "id": "c266d2c8-0a13-4914-952e-094e8dafb858",
   "metadata": {
    "id": "c266d2c8-0a13-4914-952e-094e8dafb858"
   },
   "source": [
    "To access values in a dictionary, use the corresponding key in square brackets [], noting that keys are case-sensitive."
   ]
  },
  {
   "cell_type": "code",
   "execution_count": 211,
   "id": "41e59644",
   "metadata": {
    "id": "41e59644"
   },
   "outputs": [
    {
     "data": {
      "text/plain": [
       "'1'"
      ]
     },
     "execution_count": 211,
     "metadata": {},
     "output_type": "execute_result"
    }
   ],
   "source": [
    "contacts [\"John\"][1]"
   ]
  },
  {
   "cell_type": "code",
   "execution_count": 213,
   "id": "cce3aa87-faed-44cb-b7fb-3d671ee29cac",
   "metadata": {},
   "outputs": [
    {
     "data": {
      "text/plain": [
       "'111-111-1234'"
      ]
     },
     "execution_count": 213,
     "metadata": {},
     "output_type": "execute_result"
    }
   ],
   "source": [
    "contacts [\"John\"]"
   ]
  },
  {
   "cell_type": "code",
   "execution_count": 215,
   "id": "d0f2cabe-2d4a-4f7c-8bb4-cd52f769d945",
   "metadata": {},
   "outputs": [
    {
     "ename": "NameError",
     "evalue": "name 'John_Contact' is not defined",
     "output_type": "error",
     "traceback": [
      "\u001b[1;31m---------------------------------------------------------------------------\u001b[0m",
      "\u001b[1;31mNameError\u001b[0m                                 Traceback (most recent call last)",
      "Cell \u001b[1;32mIn[215], line 2\u001b[0m\n\u001b[0;32m      1\u001b[0m john_contact \u001b[38;5;241m=\u001b[39m contacts [\u001b[38;5;124m\"\u001b[39m\u001b[38;5;124mJohn\u001b[39m\u001b[38;5;124m\"\u001b[39m]\n\u001b[1;32m----> 2\u001b[0m \u001b[38;5;28mprint\u001b[39m (John_Contact)\n",
      "\u001b[1;31mNameError\u001b[0m: name 'John_Contact' is not defined"
     ]
    }
   ],
   "source": [
    "john_contact = contacts [\"John\"]\n",
    "print (John_Contact)"
   ]
  },
  {
   "cell_type": "code",
   "execution_count": 217,
   "id": "90cc037d-2feb-4826-8f45-19a8fa5697c1",
   "metadata": {},
   "outputs": [
    {
     "ename": "NameError",
     "evalue": "name 'John_Contact' is not defined",
     "output_type": "error",
     "traceback": [
      "\u001b[1;31m---------------------------------------------------------------------------\u001b[0m",
      "\u001b[1;31mNameError\u001b[0m                                 Traceback (most recent call last)",
      "Cell \u001b[1;32mIn[217], line 2\u001b[0m\n\u001b[0;32m      1\u001b[0m John_contact \u001b[38;5;241m=\u001b[39m contacts [\u001b[38;5;124m\"\u001b[39m\u001b[38;5;124mJohn\u001b[39m\u001b[38;5;124m\"\u001b[39m]\n\u001b[1;32m----> 2\u001b[0m \u001b[38;5;28mprint\u001b[39m (John_Contact)\n",
      "\u001b[1;31mNameError\u001b[0m: name 'John_Contact' is not defined"
     ]
    }
   ],
   "source": [
    "John_contact = contacts [\"John\"]\n",
    "print (John_Contact)"
   ]
  },
  {
   "cell_type": "code",
   "execution_count": 219,
   "id": "502d4e84-e1bf-47b6-ba14-a306aef50db9",
   "metadata": {},
   "outputs": [
    {
     "name": "stdout",
     "output_type": "stream",
     "text": [
      "john is not in contacts.\n"
     ]
    }
   ],
   "source": [
    "name_to_search = \"john\"\n",
    "if name_to_search in contacts:\n",
    "    print(f\"{name_to_search} is in the contacts.\")\n",
    "else:\n",
    "    print(f\"{name_to_search} is not in contacts.\")"
   ]
  },
  {
   "cell_type": "code",
   "execution_count": 201,
   "id": "a054aa0d-bdb1-4669-9e0b-151aa4ef4630",
   "metadata": {},
   "outputs": [
    {
     "name": "stdout",
     "output_type": "stream",
     "text": [
      "John is in the contacts.\n"
     ]
    }
   ],
   "source": [
    "name_to_search = \"John\"\n",
    "if name_to_search in contacts:\n",
    "    print(f\"{name_to_search} is in the contacts.\")\n",
    "else:\n",
    "    print(f\"{name_to_search} is not in contacts.\")"
   ]
  },
  {
   "cell_type": "code",
   "execution_count": 187,
   "id": "e40c316c-96b4-4425-b025-01fd04a520cb",
   "metadata": {},
   "outputs": [
    {
     "ename": "KeyError",
     "evalue": "'john'",
     "output_type": "error",
     "traceback": [
      "\u001b[1;31m---------------------------------------------------------------------------\u001b[0m",
      "\u001b[1;31mKeyError\u001b[0m                                  Traceback (most recent call last)",
      "Cell \u001b[1;32mIn[187], line 2\u001b[0m\n\u001b[0;32m      1\u001b[0m contacts \u001b[38;5;241m=\u001b[39m {\u001b[38;5;124m'\u001b[39m\u001b[38;5;124mJohn\u001b[39m\u001b[38;5;124m'\u001b[39m: \u001b[38;5;124m'\u001b[39m\u001b[38;5;124m312-555-1234\u001b[39m\u001b[38;5;124m'\u001b[39m, \u001b[38;5;124m'\u001b[39m\u001b[38;5;124mJohn\u001b[39m\u001b[38;5;124m'\u001b[39m: \u001b[38;5;124m'\u001b[39m\u001b[38;5;124m111-111-1234\u001b[39m\u001b[38;5;124m'\u001b[39m, \u001b[38;5;124m'\u001b[39m\u001b[38;5;124mPaul\u001b[39m\u001b[38;5;124m'\u001b[39m: \u001b[38;5;124m'\u001b[39m\u001b[38;5;124m312-555-3123\u001b[39m\u001b[38;5;124m'\u001b[39m, \u001b[38;5;124m'\u001b[39m\u001b[38;5;124mGeorge\u001b[39m\u001b[38;5;124m'\u001b[39m: \u001b[38;5;124m'\u001b[39m\u001b[38;5;124m312-555-3333\u001b[39m\u001b[38;5;124m'\u001b[39m, \u001b[38;5;124m'\u001b[39m\u001b[38;5;124mRingo\u001b[39m\u001b[38;5;124m'\u001b[39m: \u001b[38;5;124m'\u001b[39m\u001b[38;5;124m312-555-2222\u001b[39m\u001b[38;5;124m'\u001b[39m}\n\u001b[1;32m----> 2\u001b[0m \u001b[38;5;28mprint\u001b[39m(contacts[\u001b[38;5;124m\"\u001b[39m\u001b[38;5;124mjohn\u001b[39m\u001b[38;5;124m\"\u001b[39m])\n",
      "\u001b[1;31mKeyError\u001b[0m: 'john'"
     ]
    }
   ],
   "source": [
    "contacts = {'John': '312-555-1234', 'John': '111-111-1234', 'Paul': '312-555-3123', 'George': '312-555-3333', 'Ringo': '312-555-2222'}\n",
    "print(contacts[\"john\"])"
   ]
  },
  {
   "cell_type": "code",
   "execution_count": 193,
   "id": "b0a1e8e0-be16-4c69-8adb-903910cf8de6",
   "metadata": {},
   "outputs": [
    {
     "name": "stdout",
     "output_type": "stream",
     "text": [
      "312-555-1234\n"
     ]
    }
   ],
   "source": [
    "contacts = {1: '312-555-1234', 'John': '111-111-1234', 'Paul': '312-555-3123', 'George': '312-555-3333', 'Ringo': '312-555-2222'}\n",
    "print(contacts[1])"
   ]
  },
  {
   "cell_type": "code",
   "execution_count": 203,
   "id": "feba69ee",
   "metadata": {
    "id": "feba69ee"
   },
   "outputs": [
    {
     "name": "stdout",
     "output_type": "stream",
     "text": [
      "Paul is in the contacts.\n"
     ]
    }
   ],
   "source": [
    "name_to_search = \"Paul\"\n",
    "if name_to_search in contacts:\n",
    "    print(f\"{name_to_search} is in the contacts.\")\n",
    "else:\n",
    "    print(f\"{name_to_search} is not in contacts.\")"
   ]
  },
  {
   "cell_type": "code",
   "execution_count": null,
   "id": "70d581e8-7423-48c3-8fbf-4ea9acab96a8",
   "metadata": {},
   "outputs": [],
   "source": []
  },
  {
   "cell_type": "markdown",
   "id": "c6436cc8-c6c3-4f23-9799-a2e407fa762b",
   "metadata": {
    "id": "c6436cc8-c6c3-4f23-9799-a2e407fa762b"
   },
   "source": [
    "#### Adding and Modifying Values\n",
    "\n",
    "To add a new key-value pair to a dictionary, use the syntax `<dictionary_name>[<key>] = value`."
   ]
  },
  {
   "cell_type": "code",
   "execution_count": null,
   "id": "893cb9c6",
   "metadata": {
    "id": "893cb9c6"
   },
   "outputs": [],
   "source": []
  },
  {
   "cell_type": "markdown",
   "id": "232d29c6-d3b5-43fe-b78a-d4b21cbf0c81",
   "metadata": {
    "id": "232d29c6-d3b5-43fe-b78a-d4b21cbf0c81"
   },
   "source": [
    "Values inside a dictionary can be any data type, including lists or dictionaries itself."
   ]
  },
  {
   "cell_type": "code",
   "execution_count": null,
   "id": "8101fe0e",
   "metadata": {
    "id": "8101fe0e"
   },
   "outputs": [],
   "source": [
    "student_data = {\n",
    "    'Name': 'John',\n",
    "    'E-mail': 'john@gmail.com',\n",
    "    'Age': 28,\n",
    "    'subjects': ['math', 'science', 'history', 'geography']\n",
    "}"
   ]
  },
  {
   "cell_type": "markdown",
   "id": "b70a4adb-82b6-4599-998a-a2937d430dfa",
   "metadata": {
    "id": "b70a4adb-82b6-4599-998a-a2937d430dfa"
   },
   "source": [
    "**Note**: Value associated with the key 'subjects' is a list. According to this, if we want to access 'science', we need first to access the `subjects` key in the dictionary. Then, as the `value` is a list, we need to access the corresponding element of the list.\n",
    "\n",
    "To access the value 'science' in the `student_data` dictionary, you can use the expression `student_data['subjects'][1]`."
   ]
  },
  {
   "cell_type": "code",
   "execution_count": null,
   "id": "8ca10f21-f39e-4a1d-a726-7e820f1b3181",
   "metadata": {
    "id": "8ca10f21-f39e-4a1d-a726-7e820f1b3181"
   },
   "outputs": [],
   "source": [
    "# Remember that the keys are case sensitive"
   ]
  },
  {
   "cell_type": "markdown",
   "id": "c7b44f4f-0e56-4753-a8dd-23cf93160c23",
   "metadata": {
    "id": "c7b44f4f-0e56-4753-a8dd-23cf93160c23"
   },
   "source": [
    "#### Removing Values\n",
    "\n",
    "You can remove a key-value pair from a dictionary using the `del` keyword or the `pop` method."
   ]
  },
  {
   "cell_type": "markdown",
   "id": "341c8a07-81d4-43e5-a40e-26a9b0053a33",
   "metadata": {
    "id": "341c8a07-81d4-43e5-a40e-26a9b0053a33"
   },
   "source": [
    "Checking Key Existence\n",
    "To check if a key exists in a dictionary, you can use the `in` keyword:"
   ]
  },
  {
   "cell_type": "code",
   "execution_count": null,
   "id": "07046873-9b8a-4446-a48b-bfd9c935cd20",
   "metadata": {
    "id": "07046873-9b8a-4446-a48b-bfd9c935cd20"
   },
   "outputs": [],
   "source": [
    "# use in for keys and lists"
   ]
  },
  {
   "cell_type": "code",
   "execution_count": 474,
   "id": "483f5853-7cc6-4a8b-b0fb-e920ac4da564",
   "metadata": {},
   "outputs": [
    {
     "ename": "SyntaxError",
     "evalue": "invalid syntax (1630876929.py, line 1)",
     "output_type": "error",
     "traceback": [
      "\u001b[1;36m  Cell \u001b[1;32mIn[474], line 1\u001b[1;36m\u001b[0m\n\u001b[1;33m    the Dictionary = {\" lucas:\", 1 \"flavio:\", 2  \"Duda:\",}\u001b[0m\n\u001b[1;37m        ^\u001b[0m\n\u001b[1;31mSyntaxError\u001b[0m\u001b[1;31m:\u001b[0m invalid syntax\n"
     ]
    }
   ],
   "source": [
    "the Dictionary = {\" lucas:\", 1 \"flavio:\", 2  \"Duda:\",}"
   ]
  },
  {
   "cell_type": "code",
   "execution_count": 476,
   "id": "efd5f805-bd67-482d-9b86-bb8711fc1830",
   "metadata": {},
   "outputs": [
    {
     "ename": "SyntaxError",
     "evalue": "invalid syntax (3115912395.py, line 1)",
     "output_type": "error",
     "traceback": [
      "\u001b[1;36m  Cell \u001b[1;32mIn[476], line 1\u001b[1;36m\u001b[0m\n\u001b[1;33m    the Dictionary = {\" lucas:\" 1, \"flavio:\" 2,  \"Duda:\" 3}\u001b[0m\n\u001b[1;37m        ^\u001b[0m\n\u001b[1;31mSyntaxError\u001b[0m\u001b[1;31m:\u001b[0m invalid syntax\n"
     ]
    }
   ],
   "source": [
    "the Dictionary = {\" lucas:\" 1, \"flavio:\" 2,  \"Duda:\" 3}"
   ]
  },
  {
   "cell_type": "code",
   "execution_count": 478,
   "id": "c2c3d456-d2ba-4440-a91b-b580e26e8ec4",
   "metadata": {},
   "outputs": [],
   "source": [
    "the_dictionary = {\"lucas\": 1, \"flavio\": 2,  \"Duda\": 3}"
   ]
  },
  {
   "cell_type": "code",
   "execution_count": 480,
   "id": "2db627d5-b97e-4434-a4e3-f4c2c580e430",
   "metadata": {},
   "outputs": [
    {
     "ename": "SyntaxError",
     "evalue": "unterminated string literal (detected at line 3) (2176296658.py, line 3)",
     "output_type": "error",
     "traceback": [
      "\u001b[1;36m  Cell \u001b[1;32mIn[480], line 3\u001b[1;36m\u001b[0m\n\u001b[1;33m    print (\"He is in there!)\u001b[0m\n\u001b[1;37m           ^\u001b[0m\n\u001b[1;31mSyntaxError\u001b[0m\u001b[1;31m:\u001b[0m unterminated string literal (detected at line 3)\n"
     ]
    }
   ],
   "source": [
    "the_Dictionary = {\"lucas\": 1, \"flavio\": 2,  \"Duda\": 3}\n",
    "if \"flavio\" in the Dictonary:\n",
    "    print (\"He is in there!)\n",
    "else:\n",
    "    print(\"doesnt exist!\")"
   ]
  },
  {
   "cell_type": "code",
   "execution_count": 482,
   "id": "616fbbe8-630c-4ba9-8f53-db56db2541cc",
   "metadata": {},
   "outputs": [
    {
     "ename": "SyntaxError",
     "evalue": "invalid syntax (3948737000.py, line 2)",
     "output_type": "error",
     "traceback": [
      "\u001b[1;36m  Cell \u001b[1;32mIn[482], line 2\u001b[1;36m\u001b[0m\n\u001b[1;33m    if \"flavio\" in the Dictonary:\u001b[0m\n\u001b[1;37m                       ^\u001b[0m\n\u001b[1;31mSyntaxError\u001b[0m\u001b[1;31m:\u001b[0m invalid syntax\n"
     ]
    }
   ],
   "source": [
    "the_Dictionary = {\"lucas\": 1, \"flavio\": 2,  \"Duda\": 3}\n",
    "if \"flavio\" in the Dictonary:\n",
    "    print (\"He is in there!\")\n",
    "else:\n",
    "    print(\"doesnt exist!\")"
   ]
  },
  {
   "cell_type": "code",
   "execution_count": 484,
   "id": "837a2471-0a46-467e-889a-8bb10f7fa013",
   "metadata": {},
   "outputs": [
    {
     "ename": "NameError",
     "evalue": "name 'the_Dictonary' is not defined",
     "output_type": "error",
     "traceback": [
      "\u001b[1;31m---------------------------------------------------------------------------\u001b[0m",
      "\u001b[1;31mNameError\u001b[0m                                 Traceback (most recent call last)",
      "Cell \u001b[1;32mIn[484], line 2\u001b[0m\n\u001b[0;32m      1\u001b[0m the_Dictionary \u001b[38;5;241m=\u001b[39m {\u001b[38;5;124m\"\u001b[39m\u001b[38;5;124mlucas\u001b[39m\u001b[38;5;124m\"\u001b[39m: \u001b[38;5;241m1\u001b[39m, \u001b[38;5;124m\"\u001b[39m\u001b[38;5;124mflavio\u001b[39m\u001b[38;5;124m\"\u001b[39m: \u001b[38;5;241m2\u001b[39m,  \u001b[38;5;124m\"\u001b[39m\u001b[38;5;124mDuda\u001b[39m\u001b[38;5;124m\"\u001b[39m: \u001b[38;5;241m3\u001b[39m}\n\u001b[1;32m----> 2\u001b[0m \u001b[38;5;28;01mif\u001b[39;00m \u001b[38;5;124m\"\u001b[39m\u001b[38;5;124mflavio\u001b[39m\u001b[38;5;124m\"\u001b[39m \u001b[38;5;129;01min\u001b[39;00m the_Dictonary:\n\u001b[0;32m      3\u001b[0m     \u001b[38;5;28mprint\u001b[39m (\u001b[38;5;124m\"\u001b[39m\u001b[38;5;124mHe is in there!\u001b[39m\u001b[38;5;124m\"\u001b[39m)\n\u001b[0;32m      4\u001b[0m \u001b[38;5;28;01melse\u001b[39;00m:\n",
      "\u001b[1;31mNameError\u001b[0m: name 'the_Dictonary' is not defined"
     ]
    }
   ],
   "source": [
    "the_Dictionary = {\"lucas\": 1, \"flavio\": 2,  \"Duda\": 3}\n",
    "if \"flavio\" in the_dictonary:\n",
    "    print (\"He is in there!\")\n",
    "else:\n",
    "    print(\"doesnt exist!\")"
   ]
  },
  {
   "cell_type": "code",
   "execution_count": 486,
   "id": "f06ca9f4-2f1f-4592-b6b9-9863370761c5",
   "metadata": {},
   "outputs": [
    {
     "ename": "NameError",
     "evalue": "name 'the_dictonary' is not defined",
     "output_type": "error",
     "traceback": [
      "\u001b[1;31m---------------------------------------------------------------------------\u001b[0m",
      "\u001b[1;31mNameError\u001b[0m                                 Traceback (most recent call last)",
      "Cell \u001b[1;32mIn[486], line 2\u001b[0m\n\u001b[0;32m      1\u001b[0m the_Dictionary \u001b[38;5;241m=\u001b[39m {\u001b[38;5;124m\"\u001b[39m\u001b[38;5;124mlucas\u001b[39m\u001b[38;5;124m\"\u001b[39m: \u001b[38;5;241m1\u001b[39m, \u001b[38;5;124m\"\u001b[39m\u001b[38;5;124mflavio\u001b[39m\u001b[38;5;124m\"\u001b[39m: \u001b[38;5;241m2\u001b[39m,  \u001b[38;5;124m\"\u001b[39m\u001b[38;5;124mDuda\u001b[39m\u001b[38;5;124m\"\u001b[39m: \u001b[38;5;241m3\u001b[39m}\n\u001b[1;32m----> 2\u001b[0m \u001b[38;5;28;01mif\u001b[39;00m \u001b[38;5;124m\"\u001b[39m\u001b[38;5;124mflavio\u001b[39m\u001b[38;5;124m\"\u001b[39m \u001b[38;5;129;01min\u001b[39;00m the_dictonary:\n\u001b[0;32m      3\u001b[0m     \u001b[38;5;28mprint\u001b[39m (\u001b[38;5;124m\"\u001b[39m\u001b[38;5;124mHe is in there!\u001b[39m\u001b[38;5;124m\"\u001b[39m)\n\u001b[0;32m      4\u001b[0m \u001b[38;5;28;01melse\u001b[39;00m:\n",
      "\u001b[1;31mNameError\u001b[0m: name 'the_dictonary' is not defined"
     ]
    }
   ],
   "source": [
    "the_Dictionary = {\"lucas\": 1, \"flavio\": 2,  \"Duda\": 3}\n",
    "if \"flavio\" in the_dictonary:\n",
    "    print (\"He is in there!\")\n",
    "else:\n",
    "    print(\"doesnt exist!\")"
   ]
  },
  {
   "cell_type": "code",
   "execution_count": 488,
   "id": "7959cadc-d66a-4347-9454-97a3268c566a",
   "metadata": {},
   "outputs": [
    {
     "name": "stdout",
     "output_type": "stream",
     "text": [
      "He is in there!\n"
     ]
    }
   ],
   "source": [
    "the_dictionary = {\"lucas\": 1,  \"flavio\": 2,  \"Duda\": 3}\n",
    "if \"flavio\" in the_dictionary:\n",
    "    print(\"He is in there!\")\n",
    "else:\n",
    "    print(\"He doesnt exist!\")"
   ]
  },
  {
   "cell_type": "markdown",
   "id": "37d42539-6e81-4aed-98f8-3f70ffc0e992",
   "metadata": {
    "id": "37d42539-6e81-4aed-98f8-3f70ffc0e992"
   },
   "source": [
    "#### Dictionary Methods"
   ]
  },
  {
   "cell_type": "markdown",
   "id": "18885f64-dce9-4375-a4b1-37df897855cc",
   "metadata": {
    "id": "18885f64-dce9-4375-a4b1-37df897855cc"
   },
   "source": [
    "Python dictionaries provide several useful methods:\n",
    "- **`.keys()`**: Returns a view object containing all the keys in the dictionary.\n",
    "- **`.values()`**: Returns a view object containing all the values in the dictionary.\n",
    "- **`.items()`**: Returns a view object containing all the key-value pairs in the dictionary as tuples.\n",
    "- **`get(key)`**: Returns the value associated with the specified key. If the key is not found, it returns a default value (None by default) instead of raising an error."
   ]
  },
  {
   "cell_type": "code",
   "execution_count": null,
   "id": "ec475c8b-b2b5-4c87-afc1-2ced5166a10f",
   "metadata": {
    "id": "ec475c8b-b2b5-4c87-afc1-2ced5166a10f"
   },
   "outputs": [],
   "source": [
    "# get(key, \"None\")"
   ]
  },
  {
   "cell_type": "markdown",
   "id": "5108d421-4f84-454a-81fe-c0b26759aba5",
   "metadata": {
    "id": "5108d421-4f84-454a-81fe-c0b26759aba5"
   },
   "source": [
    "In Python, the `print()` function displays the value passed to it and outputs it to the console. If the value is `None`, the function explicitly displays the word `None` as the output. In Jupyter Notebook, variables are automatically displayed as output when mentioned in a cell, but if the value is `None`, the notebook environment shows nothing instead of displaying `None`."
   ]
  },
  {
   "cell_type": "code",
   "execution_count": null,
   "id": "e93d2989-34c2-48bc-a8d0-3f6bc34b1068",
   "metadata": {
    "id": "e93d2989-34c2-48bc-a8d0-3f6bc34b1068"
   },
   "outputs": [],
   "source": []
  },
  {
   "cell_type": "markdown",
   "id": "09533aba-5aaa-4316-b8ae-29313652c73c",
   "metadata": {
    "id": "09533aba-5aaa-4316-b8ae-29313652c73c"
   },
   "source": [
    "### Sets\n",
    "\n",
    "Sets in Python are unordered collections of unique elements defined using curly braces {} or the set() function. They can contain elements of different data types, do not allow duplicates, and are mutable. Sets support operations like union, intersection, and difference."
   ]
  },
  {
   "cell_type": "code",
   "execution_count": null,
   "id": "fb649e8c",
   "metadata": {
    "id": "fb649e8c"
   },
   "outputs": [],
   "source": [
    "# Creating a set"
   ]
  },
  {
   "cell_type": "code",
   "execution_count": 225,
   "id": "ff24bca5-299c-424b-8a9e-68f9c4d9d6d9",
   "metadata": {},
   "outputs": [
    {
     "ename": "NameError",
     "evalue": "name 'Marco' is not defined",
     "output_type": "error",
     "traceback": [
      "\u001b[1;31m---------------------------------------------------------------------------\u001b[0m",
      "\u001b[1;31mNameError\u001b[0m                                 Traceback (most recent call last)",
      "Cell \u001b[1;32mIn[225], line 1\u001b[0m\n\u001b[1;32m----> 1\u001b[0m contacts \u001b[38;5;241m=\u001b[39m {Marco, Joao, Lucas}\n\u001b[0;32m      2\u001b[0m \u001b[38;5;28mprint\u001b[39m(contacts)\n",
      "\u001b[1;31mNameError\u001b[0m: name 'Marco' is not defined"
     ]
    }
   ],
   "source": [
    "contacts = {Marco, Joao, Lucas}\n",
    "print(contacts)"
   ]
  },
  {
   "cell_type": "code",
   "execution_count": 233,
   "id": "c6bd8e88-3750-41bd-bf88-7fc4875e7901",
   "metadata": {},
   "outputs": [
    {
     "name": "stdout",
     "output_type": "stream",
     "text": [
      "{'Marco, Joao, Lucas'}\n"
     ]
    }
   ],
   "source": [
    "contacts = {\"Marco, Joao, Lucas\"}\n",
    "print(contacts)"
   ]
  },
  {
   "cell_type": "code",
   "execution_count": 229,
   "id": "9659e985-f583-40db-9a22-7c3542a19ce3",
   "metadata": {},
   "outputs": [
    {
     "ename": "NameError",
     "evalue": "name 'numbers' is not defined",
     "output_type": "error",
     "traceback": [
      "\u001b[1;31m---------------------------------------------------------------------------\u001b[0m",
      "\u001b[1;31mNameError\u001b[0m                                 Traceback (most recent call last)",
      "Cell \u001b[1;32mIn[229], line 2\u001b[0m\n\u001b[0;32m      1\u001b[0m Numbers \u001b[38;5;241m=\u001b[39m {\u001b[38;5;241m1\u001b[39m, \u001b[38;5;241m2\u001b[39m, \u001b[38;5;241m3\u001b[39m, \u001b[38;5;241m4\u001b[39m}\n\u001b[1;32m----> 2\u001b[0m \u001b[38;5;28mprint\u001b[39m(numbers)\n",
      "\u001b[1;31mNameError\u001b[0m: name 'numbers' is not defined"
     ]
    }
   ],
   "source": [
    "Numbers = {1, 2, 3, 4}\n",
    "print(numbers)"
   ]
  },
  {
   "cell_type": "code",
   "execution_count": 231,
   "id": "58afb18a-2629-4b44-9ec6-e7f3c69eb919",
   "metadata": {},
   "outputs": [
    {
     "name": "stdout",
     "output_type": "stream",
     "text": [
      "{1, 2, 3, 4}\n"
     ]
    }
   ],
   "source": [
    "Numbers = {1, 2, 3, 4}\n",
    "print(Numbers)"
   ]
  },
  {
   "cell_type": "code",
   "execution_count": null,
   "id": "388789a2",
   "metadata": {
    "id": "388789a2"
   },
   "outputs": [],
   "source": [
    "# Adding elements to a set"
   ]
  },
  {
   "cell_type": "code",
   "execution_count": 235,
   "id": "24717891-9bd4-4f24-983b-4c2e1bbc428a",
   "metadata": {},
   "outputs": [
    {
     "name": "stdout",
     "output_type": "stream",
     "text": [
      "{1, 2, 3, 4, 5}\n"
     ]
    }
   ],
   "source": [
    "Numbers = {1, 2, 3, 4}\n",
    "Numbers.add(5)\n",
    "print(Numbers)"
   ]
  },
  {
   "cell_type": "code",
   "execution_count": null,
   "id": "f0fa0530",
   "metadata": {
    "id": "f0fa0530"
   },
   "outputs": [],
   "source": [
    "# Removing elements from a set"
   ]
  },
  {
   "cell_type": "code",
   "execution_count": 237,
   "id": "8a23bad9-7965-497f-a50f-8cf690619dd9",
   "metadata": {},
   "outputs": [
    {
     "name": "stdout",
     "output_type": "stream",
     "text": [
      "{1, 2, 4}\n"
     ]
    }
   ],
   "source": [
    "Numbers = {1, 2, 3, 4}\n",
    "Numbers.remove(3)\n",
    "print(Numbers)"
   ]
  },
  {
   "cell_type": "code",
   "execution_count": 243,
   "id": "42037d63-aa72-4455-9cef-8be267ef21a6",
   "metadata": {},
   "outputs": [
    {
     "ename": "TypeError",
     "evalue": "set.add() takes exactly one argument (2 given)",
     "output_type": "error",
     "traceback": [
      "\u001b[1;31m---------------------------------------------------------------------------\u001b[0m",
      "\u001b[1;31mTypeError\u001b[0m                                 Traceback (most recent call last)",
      "Cell \u001b[1;32mIn[243], line 2\u001b[0m\n\u001b[0;32m      1\u001b[0m Numbers \u001b[38;5;241m=\u001b[39m {\u001b[38;5;241m1\u001b[39m, \u001b[38;5;241m2\u001b[39m, \u001b[38;5;241m3\u001b[39m, \u001b[38;5;241m4\u001b[39m}\n\u001b[1;32m----> 2\u001b[0m Numbers\u001b[38;5;241m.\u001b[39madd(\u001b[38;5;241m1\u001b[39m, \u001b[38;5;241m2\u001b[39m)\n\u001b[0;32m      3\u001b[0m \u001b[38;5;28mprint\u001b[39m(Numbers)\n",
      "\u001b[1;31mTypeError\u001b[0m: set.add() takes exactly one argument (2 given)"
     ]
    }
   ],
   "source": [
    "Numbers = {1, 2, 3, 4}\n",
    "Numbers.add(1, 2)\n",
    "print(Numbers)"
   ]
  },
  {
   "cell_type": "code",
   "execution_count": 249,
   "id": "3c672cac-eb5c-45a1-b7c3-fd806538f594",
   "metadata": {},
   "outputs": [
    {
     "name": "stdout",
     "output_type": "stream",
     "text": [
      "{1, 2, 3, 4}\n"
     ]
    }
   ],
   "source": [
    "Numbers = {1, 2, 3, 4}\n",
    "Numbers.update([3, 2])\n",
    "print(Numbers)"
   ]
  },
  {
   "cell_type": "code",
   "execution_count": null,
   "id": "31d4f47d",
   "metadata": {
    "id": "31d4f47d"
   },
   "outputs": [],
   "source": [
    "# useful for removing duplicates from lists"
   ]
  },
  {
   "cell_type": "code",
   "execution_count": null,
   "id": "03458495-02b7-479e-9874-5c65a8194927",
   "metadata": {},
   "outputs": [],
   "source": []
  },
  {
   "cell_type": "markdown",
   "id": "2eaf816a",
   "metadata": {
    "id": "2eaf816a"
   },
   "source": [
    "#### Set operations"
   ]
  },
  {
   "cell_type": "markdown",
   "id": "9cb3afd3",
   "metadata": {
    "id": "9cb3afd3"
   },
   "source": [
    "![image](http://res.cloudinary.com/dyd911kmh/image/upload/f_auto,q_auto:best/v1526998740/15_union_intersection_difference_symmetric.png)\n",
    "\n",
    "(Source: [Datacamp](https://www.datacamp.com/tutorial/sets-in-python))"
   ]
  },
  {
   "cell_type": "code",
   "execution_count": 253,
   "id": "1420663e",
   "metadata": {
    "id": "1420663e"
   },
   "outputs": [],
   "source": [
    "set_1 = {1, 2, 3}\n",
    "set_2 = {3, 4, 5}\n",
    "\n",
    "# Union of set_1 and set_2"
   ]
  },
  {
   "cell_type": "code",
   "execution_count": 255,
   "id": "2fd7a3ac",
   "metadata": {
    "id": "2fd7a3ac"
   },
   "outputs": [],
   "source": [
    "# Alternative union syntax using the pipe symbol |"
   ]
  },
  {
   "cell_type": "code",
   "execution_count": 257,
   "id": "267e9b52-582f-4f0f-abf8-517dcf68bf7d",
   "metadata": {},
   "outputs": [
    {
     "ename": "TypeError",
     "evalue": "unsupported operand type(s) for /: 'set' and 'set'",
     "output_type": "error",
     "traceback": [
      "\u001b[1;31m---------------------------------------------------------------------------\u001b[0m",
      "\u001b[1;31mTypeError\u001b[0m                                 Traceback (most recent call last)",
      "Cell \u001b[1;32mIn[257], line 1\u001b[0m\n\u001b[1;32m----> 1\u001b[0m union_set \u001b[38;5;241m=\u001b[39m set_1 \u001b[38;5;241m/\u001b[39m set_2\n\u001b[0;32m      2\u001b[0m \u001b[38;5;28mprint\u001b[39m(union_set)\n",
      "\u001b[1;31mTypeError\u001b[0m: unsupported operand type(s) for /: 'set' and 'set'"
     ]
    }
   ],
   "source": [
    "union_set = set_1 / set_2\n",
    "print(union_set)"
   ]
  },
  {
   "cell_type": "code",
   "execution_count": 259,
   "id": "e7e65a80-dae5-4e43-9cc1-96e008e9b6c4",
   "metadata": {},
   "outputs": [
    {
     "name": "stdout",
     "output_type": "stream",
     "text": [
      "{1, 2, 3, 4, 5}\n"
     ]
    }
   ],
   "source": [
    "union_set = set_1 | set_2\n",
    "print(union_set)"
   ]
  },
  {
   "cell_type": "code",
   "execution_count": null,
   "id": "7c4846f0",
   "metadata": {
    "id": "7c4846f0"
   },
   "outputs": [],
   "source": [
    "# Intersection of set_1 and set_2"
   ]
  },
  {
   "cell_type": "code",
   "execution_count": null,
   "id": "307d8415",
   "metadata": {
    "id": "307d8415"
   },
   "outputs": [],
   "source": [
    "# Alternative intersection syntax using the ampersand symbol &"
   ]
  },
  {
   "cell_type": "code",
   "execution_count": null,
   "id": "85a1e479",
   "metadata": {
    "id": "85a1e479"
   },
   "outputs": [],
   "source": [
    "# Difference of set_1 and set_2 (elements in set_1 but not in set_2)"
   ]
  },
  {
   "cell_type": "code",
   "execution_count": 490,
   "id": "109071b0-213f-4401-9330-bff994a52458",
   "metadata": {},
   "outputs": [],
   "source": [
    "set_1 = {1, 2, 3}\n",
    "set_2 = {3, 4, 5}"
   ]
  },
  {
   "cell_type": "code",
   "execution_count": 492,
   "id": "9084ccda-0032-4df9-8e27-faacdf3e5787",
   "metadata": {},
   "outputs": [
    {
     "name": "stdout",
     "output_type": "stream",
     "text": [
      "{1, 2}\n"
     ]
    }
   ],
   "source": [
    "difference = set_1 - set_2\n",
    "print(difference)"
   ]
  },
  {
   "cell_type": "code",
   "execution_count": null,
   "id": "ddbd92e2-2a8f-408f-a371-ca4d4e69b298",
   "metadata": {},
   "outputs": [],
   "source": [
    "# on this exampl up shows difference number that are in set_1 that doesnt exist in set_2"
   ]
  },
  {
   "cell_type": "code",
   "execution_count": 494,
   "id": "ce9ebd8e-cf85-4265-bd8d-02b3638aa5dd",
   "metadata": {},
   "outputs": [
    {
     "name": "stdout",
     "output_type": "stream",
     "text": [
      "{4, 5}\n"
     ]
    }
   ],
   "source": [
    "difference = set_2 - set_1\n",
    "print(difference)"
   ]
  },
  {
   "cell_type": "code",
   "execution_count": null,
   "id": "669ad431-e7eb-4bee-9888-84a5cffee1fb",
   "metadata": {},
   "outputs": [],
   "source": [
    "# on this exampl up shows difference number that are in set_2 that doesnt exist in set_1"
   ]
  },
  {
   "cell_type": "code",
   "execution_count": null,
   "id": "e1f5268d",
   "metadata": {
    "id": "e1f5268d"
   },
   "outputs": [],
   "source": [
    "# Subset check (whether set_1 is a subset of set_2) - e.g. presentation, is PT a subset of FT"
   ]
  },
  {
   "cell_type": "markdown",
   "id": "5c6f9ada-6dd4-4131-8754-e5097570c354",
   "metadata": {
    "id": "5c6f9ada-6dd4-4131-8754-e5097570c354"
   },
   "source": [
    "### Tuples\n",
    "\n",
    "Tuples are immutable and defined using parentheses (). They can store elements of different types, and once created, their elements cannot be modified. Tuples are often used to group related data together."
   ]
  },
  {
   "cell_type": "code",
   "execution_count": null,
   "id": "cee6451b-a0f4-4701-ad28-a1ef0a7dcfad",
   "metadata": {
    "id": "cee6451b-a0f4-4701-ad28-a1ef0a7dcfad"
   },
   "outputs": [],
   "source": [
    "# useful when you don't want accidental overwriting of your data\n",
    "# tuple, ()"
   ]
  },
  {
   "cell_type": "code",
   "execution_count": null,
   "id": "d0debad7",
   "metadata": {
    "id": "d0debad7"
   },
   "outputs": [],
   "source": [
    "# Accessing elements of a tuple"
   ]
  },
  {
   "cell_type": "code",
   "execution_count": 265,
   "id": "3a20b74a-ebbe-4ed6-9b10-109148c9923a",
   "metadata": {},
   "outputs": [
    {
     "ename": "IndentationError",
     "evalue": "unexpected indent (3339288594.py, line 3)",
     "output_type": "error",
     "traceback": [
      "\u001b[1;36m  Cell \u001b[1;32mIn[265], line 3\u001b[1;36m\u001b[0m\n\u001b[1;33m    print(The_tuple[-2])\u001b[0m\n\u001b[1;37m    ^\u001b[0m\n\u001b[1;31mIndentationError\u001b[0m\u001b[1;31m:\u001b[0m unexpected indent\n"
     ]
    }
   ],
   "source": [
    "The_tuple = (5,10,15,20,25)\n",
    "print(The_tuple[2])\n",
    "      print(The_tuple[-2])"
   ]
  },
  {
   "cell_type": "code",
   "execution_count": 267,
   "id": "741af4b0-e566-45cf-9d50-e504412525c2",
   "metadata": {},
   "outputs": [
    {
     "name": "stdout",
     "output_type": "stream",
     "text": [
      "15\n",
      "20\n"
     ]
    }
   ],
   "source": [
    "The_tuple = (5,10,15,20,25)\n",
    "print(The_tuple[2])\n",
    "print(The_tuple[-2])"
   ]
  },
  {
   "cell_type": "code",
   "execution_count": null,
   "id": "841a49dd",
   "metadata": {
    "id": "841a49dd"
   },
   "outputs": [],
   "source": [
    "# Trying to modify a tuple (this will raise an error)"
   ]
  },
  {
   "cell_type": "code",
   "execution_count": null,
   "id": "32e6ecd9",
   "metadata": {
    "id": "32e6ecd9"
   },
   "outputs": [],
   "source": [
    "# Attempt the append function (like for lists)"
   ]
  },
  {
   "cell_type": "code",
   "execution_count": null,
   "id": "d2233b9d",
   "metadata": {
    "id": "d2233b9d"
   },
   "outputs": [],
   "source": [
    "# when a function has multiple outputs, it returns them within a tuple - more on that on Saturday"
   ]
  },
  {
   "cell_type": "markdown",
   "id": "f1d43f6e-6746-4488-b6a3-aabe1a57bf46",
   "metadata": {
    "id": "f1d43f6e-6746-4488-b6a3-aabe1a57bf46"
   },
   "source": [
    "## Summary\n",
    "\n",
    "It is always crucial to know what kind of variable you have in your hands because this determines how to retrieve the data.\n",
    "\n",
    "- lists and tuples -> accessed by **index**\n",
    "- dictionaries -> accessed by **key** (misleadingly, the key can be a number but usually is a string)\n",
    "- sets ->  since sets are unordered, they do not support indexing or retrieval of elements by position\n",
    "\n",
    "\n",
    "To identify these types:\n",
    "- Lists are easily recognizable as they begin and end with square brackets `[ ]`.\n",
    "- Dictionaries are enclosed in curly brackets `{ }`.\n",
    "- Sets are also enclosed in curly brackets `{ }`, but they lack key-value pairs.\n",
    "- Tuples are indicated by parentheses `( )`."
   ]
  },
  {
   "cell_type": "markdown",
   "id": "1e02990b-5522-4ee2-aa1e-c9e3b7b2601c",
   "metadata": {
    "id": "1e02990b-5522-4ee2-aa1e-c9e3b7b2601c"
   },
   "source": [
    "![](https://github.com/data-bootcamp-v4/lessons/blob/main/img/data-structures.png?raw=true)"
   ]
  },
  {
   "cell_type": "markdown",
   "id": "08143668-d89c-40a4-8e3d-4058f0a6b66d",
   "metadata": {
    "id": "08143668-d89c-40a4-8e3d-4058f0a6b66d"
   },
   "source": [
    "## 💡 Check for understanding"
   ]
  },
  {
   "cell_type": "markdown",
   "id": "81d83946-739d-47b6-949d-3d80322f8c47",
   "metadata": {
    "id": "81d83946-739d-47b6-949d-3d80322f8c47"
   },
   "source": [
    "Write a program that allows the user to enter the grades of five students. The program should store these grades in a list and then display the average grade."
   ]
  },
  {
   "cell_type": "code",
   "execution_count": null,
   "id": "f29748e1-523c-4ba3-a74c-c17d4314717e",
   "metadata": {
    "id": "f29748e1-523c-4ba3-a74c-c17d4314717e"
   },
   "outputs": [],
   "source": [
    "# Write your code here"
   ]
  },
  {
   "cell_type": "code",
   "execution_count": 420,
   "id": "c252ee26-5792-45c9-a1ed-a6a4279fbeb8",
   "metadata": {},
   "outputs": [],
   "source": [
    "grades = [ ]"
   ]
  },
  {
   "cell_type": "code",
   "execution_count": 422,
   "id": "135f5b21-8790-46d8-b19a-1db13f899300",
   "metadata": {},
   "outputs": [
    {
     "name": "stdin",
     "output_type": "stream",
     "text": [
      "enter the students grade1: 30.8\n",
      "enter the students grade2: 35.5\n",
      "enter the students grade3: 42.3\n",
      "enter the students grade4: 38.4\n",
      "enter the students grade5: 44.9\n"
     ]
    }
   ],
   "source": [
    "for i in range(5):\n",
    "    student_grade = float(input(f\"enter the students grade{i+1}:\"))"
   ]
  },
  {
   "cell_type": "code",
   "execution_count": 424,
   "id": "d08d822c-a996-4d16-b5aa-81a527ce2f31",
   "metadata": {},
   "outputs": [
    {
     "name": "stdin",
     "output_type": "stream",
     "text": [
      "enter the students grade1: 30.8\n",
      "enter the students grade2: 35.5\n",
      "enter the students grade3: 42.3\n",
      "enter the students grade4: 38.4\n",
      "enter the students grade5: 44.9\n"
     ]
    },
    {
     "name": "stdout",
     "output_type": "stream",
     "text": [
      "list of grades: [30.8, 35.5, 42.3, 38.4, 44.9]\n",
      "average grade: 38.38000\n"
     ]
    }
   ],
   "source": [
    "for i in range(5):\n",
    "    student_grade = float(input(f\"enter the students grade{i+1}:\"))\n",
    "    grades.append(student_grade)\n",
    "    \n",
    "average_grade = sum(grades) / len (grades)\n",
    "\n",
    "print(\"list of grades:\",grades)\n",
    "print(f\"average grade: {average_grade:.5f}\")\n"
   ]
  },
  {
   "cell_type": "code",
   "execution_count": 410,
   "id": "4e33f832-67ce-44dd-bc73-fb0e1f3150e4",
   "metadata": {},
   "outputs": [
    {
     "name": "stdin",
     "output_type": "stream",
     "text": [
      "Enter the grade for student 1:  30.8\n",
      "Enter the grade for student 2:  35.5\n",
      "Enter the grade for student 3:  42.6\n",
      "Enter the grade for student 4:  38.4\n",
      "Enter the grade for student 5:  44.9\n"
     ]
    },
    {
     "name": "stdout",
     "output_type": "stream",
     "text": [
      "List of Grades: [30.8, 35.5, 42.3, 38.4, 44.9, 30.5, 46.6, 45.3, 35.1, 38.2, 30.8, 35.5, 42.3, 38.4, 44.9, 30.8, 35.5, 42.6, 38.4, 44.9]\n",
      "Average Grade: 38.59\n"
     ]
    }
   ],
   "source": [
    "for i in range(5):\n",
    "    grade = float(input(f\"Enter the grade for student {i + 1}: \"))\n",
    "    list_of_grade.append(grade)  # Append each grade to the list\n",
    "average_grade = sum(grade) / len(grade)\n",
    "\n",
    "print(\"List of Grades:\", list_of_grade)\n",
    "print(f\"Average Grade: {average_grade:.5f}\")"
   ]
  },
  {
   "cell_type": "code",
   "execution_count": 390,
   "id": "521e9357-c404-45ea-add4-3f7ab4794487",
   "metadata": {},
   "outputs": [
    {
     "name": "stdin",
     "output_type": "stream",
     "text": [
      "enter the student grade1: 30.8\n",
      "enter the student grade2: 35.5\n",
      "enter the student grade3: 42.3\n",
      "enter the student grade4: 38.4\n",
      "enter the student grade5: 44.9\n"
     ]
    }
   ],
   "source": [
    "for i in range(5):\n",
    "     grade = float(input(f\"enter the student grade{i+1}:\"))\n",
    "    list_of_grade.append(grade)\n",
    "    average_grade = sum(list_of_grade)/len(list_of_grade)"
   ]
  },
  {
   "cell_type": "code",
   "execution_count": null,
   "id": "01ee2219-9c46-4e61-81ee-ee9cd5c6aec7",
   "metadata": {},
   "outputs": [],
   "source": [
    "\n",
    "### all down is wrong ###"
   ]
  },
  {
   "cell_type": "code",
   "execution_count": 392,
   "id": "4917247f-07b7-4863-bf0e-5b21c8852389",
   "metadata": {},
   "outputs": [
    {
     "ename": "IndentationError",
     "evalue": "unexpected indent (3570650000.py, line 2)",
     "output_type": "error",
     "traceback": [
      "\u001b[1;36m  Cell \u001b[1;32mIn[392], line 2\u001b[1;36m\u001b[0m\n\u001b[1;33m    average_grade = sum(list_of_grade)/len(list_of_grade)\u001b[0m\n\u001b[1;37m    ^\u001b[0m\n\u001b[1;31mIndentationError\u001b[0m\u001b[1;31m:\u001b[0m unexpected indent\n"
     ]
    }
   ],
   "source": [
    "list_of_grade.append(grade)\n",
    "    average_grade = sum(list_of_grade)/len(list_of_grade)"
   ]
  },
  {
   "cell_type": "code",
   "execution_count": 396,
   "id": "ab480a97-11c4-4717-8a2d-216db9d60167",
   "metadata": {},
   "outputs": [
    {
     "ename": "IndentationError",
     "evalue": "unexpected indent (647918701.py, line 3)",
     "output_type": "error",
     "traceback": [
      "\u001b[1;36m  Cell \u001b[1;32mIn[396], line 3\u001b[1;36m\u001b[0m\n\u001b[1;33m    list_of_grade.append(grade)\u001b[0m\n\u001b[1;37m    ^\u001b[0m\n\u001b[1;31mIndentationError\u001b[0m\u001b[1;31m:\u001b[0m unexpected indent\n"
     ]
    }
   ],
   "source": [
    "for i in range(5):\n",
    "    grade = float(input(f\"enter the student grade{i+1}:\"))\n",
    "     list_of_grade.append(grade)\n",
    "average_grade = sum(list_of_grade)/len(list_of_grade)\n",
    "print(\"List_of_grade:\", list_of_grade)\n"
   ]
  },
  {
   "cell_type": "code",
   "execution_count": 398,
   "id": "8d50f29f-9730-4969-8a27-4a27a4368dd0",
   "metadata": {},
   "outputs": [],
   "source": [
    "List_of_grade = []"
   ]
  },
  {
   "cell_type": "code",
   "execution_count": 402,
   "id": "c00f62b9-7285-4233-a8b3-601b51fbe4c0",
   "metadata": {},
   "outputs": [
    {
     "name": "stdin",
     "output_type": "stream",
     "text": [
      "enter the student grade1: 30.8\n",
      "enter the student grade2: 35.5\n",
      "enter the student grade3: 42.3\n",
      "enter the student grade4: 38.4\n",
      "enter the student grade5: 44.9\n"
     ]
    }
   ],
   "source": [
    "for i in range(5):\n",
    "    grade = float(input(f\"enter the student grade{i+1}:\"))\n",
    "    list_of_grade.append(grade)"
   ]
  },
  {
   "cell_type": "code",
   "execution_count": 404,
   "id": "b18e9ee6-a2b5-4743-98e3-64091bc564a5",
   "metadata": {},
   "outputs": [
    {
     "name": "stdout",
     "output_type": "stream",
     "text": [
      "List_of_grade: [30.8, 35.5, 42.3, 38.4, 44.9, 30.5, 46.6, 45.3, 35.1, 38.2, 30.8, 35.5, 42.3, 38.4, 44.9]\n"
     ]
    }
   ],
   "source": [
    "average_grade = sum(list_of_grade)/len(list_of_grade)\n",
    "print(\"List_of_grade:\", list_of_grade)"
   ]
  },
  {
   "cell_type": "code",
   "execution_count": 406,
   "id": "1819aaee-883d-459b-ae45-21bac452b9a7",
   "metadata": {},
   "outputs": [
    {
     "name": "stdout",
     "output_type": "stream",
     "text": [
      "List_of_grade:\n"
     ]
    }
   ],
   "source": [
    "average_grade = sum(list_of_grade)/len(list_of_grade)\n",
    "print(\"List_of_grade:\", list_of_grade)"
   ]
  },
  {
   "cell_type": "code",
   "execution_count": null,
   "id": "d4ed9a04-9c7f-41bc-93c8-d964650f8b36",
   "metadata": {},
   "outputs": [],
   "source": [
    "##### OMG OMG OMG OMG , 2 Days trying to fix it, O M G..D N E S S"
   ]
  },
  {
   "cell_type": "markdown",
   "id": "05fb5689-6131-4ebb-97af-6408f8813217",
   "metadata": {
    "id": "05fb5689-6131-4ebb-97af-6408f8813217"
   },
   "source": [
    "**Please refer to the following hint only if you have attempted the Check for Understanding and are still confused. Do not read it before giving it a try.**:\n",
    "\n",
    "Here's a step-by-step guide:\n",
    "\n",
    "1. Create an empty list to store the grades.\n",
    "2. Use the `input()` function to get the grade from the user for each student. Append each grade to the list.\n",
    "3. Calculate the average grade by summing up all the grades in the list and dividing by the number of grades.\n",
    "4. Display the average grade to the user."
   ]
  },
  {
   "cell_type": "markdown",
   "id": "6aabbf00-3eba-412b-860a-e7f9727ff71e",
   "metadata": {
    "id": "6aabbf00-3eba-412b-860a-e7f9727ff71e"
   },
   "source": [
    "# Extra: nested dictionaries"
   ]
  },
  {
   "cell_type": "markdown",
   "id": "5f25699d-f74f-4136-90e6-2bf44d44d967",
   "metadata": {
    "id": "5f25699d-f74f-4136-90e6-2bf44d44d967"
   },
   "source": [
    "In Python, a nested dictionary is a dictionary where the values are themselves dictionaries. This can be useful when you need to organize data into multiple levels or categories. Here are some key points about nested dictionaries:\n",
    "\n",
    "- A nested dictionary can have multiple levels of nesting, with each level representing a specific category or subcategory.\n",
    "- You can access the values in a nested dictionary by specifying the keys at each level.\n",
    "- You can add, modify, or remove elements from a nested dictionary, just like with regular dictionaries.\n",
    "- Each level of a nested dictionary can have different keys and values, providing flexibility in structuring your data.\n"
   ]
  },
  {
   "cell_type": "code",
   "execution_count": 318,
   "id": "89c96830-96e2-4178-b3a1-8afed9b641e4",
   "metadata": {
    "id": "89c96830-96e2-4178-b3a1-8afed9b641e4"
   },
   "outputs": [],
   "source": [
    "# Creating a nested dictionary\n",
    "student_data = {\n",
    "    'John': {\n",
    "        'age': 20,\n",
    "        'major': 'Computer Science',\n",
    "        'grades': [85, 90, 78]\n",
    "    },\n",
    "    'Jane': {\n",
    "        'age': 22,\n",
    "        'major': 'Biology',\n",
    "        'grades': [92, 88, 95]\n",
    "    }\n",
    "}"
   ]
  },
  {
   "cell_type": "code",
   "execution_count": 320,
   "id": "a25cd58c-19dc-4e35-b133-3b4b1ae61321",
   "metadata": {
    "id": "a25cd58c-19dc-4e35-b133-3b4b1ae61321"
   },
   "outputs": [
    {
     "name": "stdout",
     "output_type": "stream",
     "text": [
      "20\n",
      "Biology\n",
      "[85, 90, 78]\n"
     ]
    }
   ],
   "source": [
    "# Accessing values in a nested dictionary\n",
    "john_age = student_data['John']['age']\n",
    "jane_major = student_data['Jane']['major']\n",
    "john_grades = student_data['John']['grades']\n",
    "\n",
    "print(john_age)  # Output: 20\n",
    "print(jane_major)  # Output: Biology\n",
    "print(john_grades)  # Output: [85, 90, 78]"
   ]
  },
  {
   "cell_type": "code",
   "execution_count": 322,
   "id": "a7bf9651-8ca7-4809-9f2b-ac77ec1b868a",
   "metadata": {
    "id": "a7bf9651-8ca7-4809-9f2b-ac77ec1b868a"
   },
   "outputs": [],
   "source": [
    "# Modifying values in a nested dictionary\n",
    "student_data['John']['major'] = 'Electrical Engineering'\n",
    "student_data['Jane']['grades'].append(97)"
   ]
  },
  {
   "cell_type": "code",
   "execution_count": 324,
   "id": "6c496256-0870-4455-96a9-0aefa9bd6c31",
   "metadata": {
    "id": "6c496256-0870-4455-96a9-0aefa9bd6c31"
   },
   "outputs": [],
   "source": [
    "# Adding a new student to the nested dictionary\n",
    "student_data['Sarah'] = {\n",
    "    'age': 19,\n",
    "    'major': 'Physics',\n",
    "    'grades': [90, 91, 88]\n",
    "}"
   ]
  },
  {
   "cell_type": "code",
   "execution_count": 326,
   "id": "870021a8-0342-4068-8569-102655de8152",
   "metadata": {
    "id": "870021a8-0342-4068-8569-102655de8152"
   },
   "outputs": [
    {
     "name": "stdout",
     "output_type": "stream",
     "text": [
      "{'Jane': {'age': 22, 'major': 'Biology', 'grades': [92, 88, 95, 97]}, 'Sarah': {'age': 19, 'major': 'Physics', 'grades': [90, 91, 88]}}\n"
     ]
    }
   ],
   "source": [
    "# Removing a student from the nested dictionary\n",
    "del student_data['John']\n",
    "\n",
    "print(student_data)"
   ]
  },
  {
   "cell_type": "code",
   "execution_count": 328,
   "id": "bd09ff80-cfac-48ab-a78d-e653bf9d85f0",
   "metadata": {
    "id": "bd09ff80-cfac-48ab-a78d-e653bf9d85f0"
   },
   "outputs": [
    {
     "data": {
      "text/plain": [
       "dict_keys(['Jane', 'Sarah'])"
      ]
     },
     "execution_count": 328,
     "metadata": {},
     "output_type": "execute_result"
    }
   ],
   "source": [
    "student_data.keys()"
   ]
  },
  {
   "cell_type": "code",
   "execution_count": 330,
   "id": "a049c2d5-d318-4f0e-95e2-5d3945e84def",
   "metadata": {
    "id": "a049c2d5-d318-4f0e-95e2-5d3945e84def"
   },
   "outputs": [
    {
     "data": {
      "text/plain": [
       "dict_values([{'age': 22, 'major': 'Biology', 'grades': [92, 88, 95, 97]}, {'age': 19, 'major': 'Physics', 'grades': [90, 91, 88]}])"
      ]
     },
     "execution_count": 330,
     "metadata": {},
     "output_type": "execute_result"
    }
   ],
   "source": [
    "student_data.values()"
   ]
  },
  {
   "cell_type": "markdown",
   "id": "da05cac7-13d8-4ecd-bb6e-c244c29ede11",
   "metadata": {
    "id": "da05cac7-13d8-4ecd-bb6e-c244c29ede11"
   },
   "source": [
    "As you can see, the `keys` of a dictionary can be either:\n",
    "\n",
    "- strings\n",
    "- numbers\n",
    "\n",
    "In this above example, the dictionary `keys` which are strings. In this particular case, the `values` are also dictionaries."
   ]
  },
  {
   "cell_type": "code",
   "execution_count": 333,
   "id": "3f9406c7-6da3-430f-a99c-db109cced171",
   "metadata": {
    "id": "3f9406c7-6da3-430f-a99c-db109cced171"
   },
   "outputs": [
    {
     "data": {
      "text/plain": [
       "dict_keys(['age', 'major', 'grades'])"
      ]
     },
     "execution_count": 333,
     "metadata": {},
     "output_type": "execute_result"
    }
   ],
   "source": [
    "student_data[\"Jane\"].keys()"
   ]
  },
  {
   "cell_type": "code",
   "execution_count": 335,
   "id": "2b9ec1e3-7e34-4340-863f-09b442c113ba",
   "metadata": {
    "id": "2b9ec1e3-7e34-4340-863f-09b442c113ba"
   },
   "outputs": [
    {
     "data": {
      "text/plain": [
       "dict_values([22, 'Biology', [92, 88, 95, 97]])"
      ]
     },
     "execution_count": 335,
     "metadata": {},
     "output_type": "execute_result"
    }
   ],
   "source": [
    "student_data[\"Jane\"].values()"
   ]
  },
  {
   "cell_type": "markdown",
   "id": "12cf0a81-5f6b-434b-aef2-ebb9afc191ce",
   "metadata": {
    "id": "12cf0a81-5f6b-434b-aef2-ebb9afc191ce"
   },
   "source": [
    "💡Check for understanding: how would you access the first grade of Jane?"
   ]
  },
  {
   "cell_type": "code",
   "execution_count": 338,
   "id": "607b21fe-fbd6-430a-b94e-df80ee7864f7",
   "metadata": {
    "id": "607b21fe-fbd6-430a-b94e-df80ee7864f7"
   },
   "outputs": [],
   "source": [
    "# Try it yourself here"
   ]
  },
  {
   "cell_type": "code",
   "execution_count": 346,
   "id": "4189a38d-6118-4f79-8635-884ed9909c1c",
   "metadata": {},
   "outputs": [
    {
     "data": {
      "text/plain": [
       "dict_keys(['age', 'major', 'grades'])"
      ]
     },
     "execution_count": 346,
     "metadata": {},
     "output_type": "execute_result"
    }
   ],
   "source": [
    "student_data[\"Jane\"].keys()"
   ]
  },
  {
   "cell_type": "code",
   "execution_count": 462,
   "id": "3fcd9bfd-90a8-42ca-9543-11eb0ac078f8",
   "metadata": {},
   "outputs": [
    {
     "ename": "NameError",
     "evalue": "name 'Print' is not defined",
     "output_type": "error",
     "traceback": [
      "\u001b[1;31m---------------------------------------------------------------------------\u001b[0m",
      "\u001b[1;31mNameError\u001b[0m                                 Traceback (most recent call last)",
      "Cell \u001b[1;32mIn[462], line 1\u001b[0m\n\u001b[1;32m----> 1\u001b[0m Print(student_data[\u001b[38;5;124m\"\u001b[39m\u001b[38;5;124mgrade\u001b[39m\u001b[38;5;124m\"\u001b[39m])\n",
      "\u001b[1;31mNameError\u001b[0m: name 'Print' is not defined"
     ]
    }
   ],
   "source": [
    "Print(student_data[\"grade\"])"
   ]
  },
  {
   "cell_type": "code",
   "execution_count": 430,
   "id": "2ea1fd2e-0da8-43e9-930f-0bcf02f1e829",
   "metadata": {},
   "outputs": [],
   "source": [
    "# Creating a nested dictionary\n",
    "student_data = {\n",
    "    'John': {\n",
    "        'age': 20,\n",
    "        'major': 'Computer Science',\n",
    "        'grades': [85, 90, 78]\n",
    "    },\n",
    "    'Jane': {\n",
    "        'age': 22,\n",
    "        'major': 'Biology',\n",
    "        'grades': [92, 88, 95]\n",
    "    }\n",
    "}"
   ]
  },
  {
   "cell_type": "code",
   "execution_count": 434,
   "id": "7dba5800-da61-40b3-bd95-51fc71e07017",
   "metadata": {},
   "outputs": [
    {
     "name": "stdout",
     "output_type": "stream",
     "text": [
      "jane's first grade is: [92, 88, 95]\n"
     ]
    }
   ],
   "source": [
    "jane_first_grade = student_data[\"Jane\"][\"grades\"]\n",
    "print(f\"jane's first grade is: {jane_first_grade}\")"
   ]
  },
  {
   "cell_type": "code",
   "execution_count": 436,
   "id": "c627e405-07d6-405d-9248-cd1a59a7e0d7",
   "metadata": {},
   "outputs": [
    {
     "name": "stdout",
     "output_type": "stream",
     "text": [
      "a\n"
     ]
    }
   ],
   "source": [
    "jane_first_grade = student_data[\"Jane\"][\"grades\"]\n",
    "print(f\"jane's first grade is:\"[1])"
   ]
  },
  {
   "cell_type": "code",
   "execution_count": 438,
   "id": "5853f272-ed9d-4ff5-995c-90b066fbced0",
   "metadata": {},
   "outputs": [
    {
     "name": "stdout",
     "output_type": "stream",
     "text": [
      "jane's first grade is: 88\n"
     ]
    }
   ],
   "source": [
    "jane_first_grade = student_data[\"Jane\"][\"grades\"][1]\n",
    "print(f\"jane's first grade is: {jane_first_grade}\")"
   ]
  },
  {
   "cell_type": "code",
   "execution_count": 440,
   "id": "57ec65a0-2bd0-43c6-be09-9117b149d482",
   "metadata": {},
   "outputs": [
    {
     "name": "stdout",
     "output_type": "stream",
     "text": [
      "jane's first grade is: 92\n"
     ]
    }
   ],
   "source": [
    "jane_first_grade = student_data[\"Jane\"][\"grades\"][0]\n",
    "print(f\"jane's first grade is: {jane_first_grade}\")"
   ]
  },
  {
   "cell_type": "markdown",
   "id": "2976667a-d51a-4188-ba3a-67a47097d071",
   "metadata": {
    "id": "2976667a-d51a-4188-ba3a-67a47097d071"
   },
   "source": [
    "We mentioned nested dictionaries (dictionaries inside dictionaries) but as you can see in the example, we can also have lists inside dictionaries."
   ]
  },
  {
   "cell_type": "markdown",
   "id": "b1f00c61-f13c-4155-a7d4-d663de273a44",
   "metadata": {
    "id": "b1f00c61-f13c-4155-a7d4-d663de273a44"
   },
   "source": [
    "You can also have lists in which each element is a dictionary. Therefore the amount of possible combinations and levels of nesting is endless."
   ]
  },
  {
   "cell_type": "code",
   "execution_count": 446,
   "id": "78d88957-0a66-4df7-b656-5edaeaf43a6c",
   "metadata": {
    "id": "78d88957-0a66-4df7-b656-5edaeaf43a6c"
   },
   "outputs": [
    {
     "data": {
      "text/plain": [
       "[{'Mike': [25, 23000], 'Jane': [38, 40000], 'Bill': [45, 35000]},\n",
       " {'Developers': ['Mike', 'Bill']},\n",
       " {'HR': ['Jane']}]"
      ]
     },
     "execution_count": 446,
     "metadata": {},
     "output_type": "execute_result"
    }
   ],
   "source": [
    "my_data = [{'Mike': [25,23000],'Jane': [38, 40000],'Bill': [45,35000]},{'Developers': ['Mike','Bill']},{'HR': ['Jane']}]\n",
    "my_data"
   ]
  },
  {
   "cell_type": "markdown",
   "id": "b6a957c4-d529-4fa9-a1d2-dfea3e59adcc",
   "metadata": {
    "id": "b6a957c4-d529-4fa9-a1d2-dfea3e59adcc"
   },
   "source": [
    "This is an example of a nested list with three elements, and each element is a dictionary. When working with nested data structures like this, it is important to understand the type of variable you are dealing with.\n",
    "\n",
    "Let's check the type of the variable `my_data`:"
   ]
  },
  {
   "cell_type": "code",
   "execution_count": 448,
   "id": "1482c0ca-8477-4b4b-8e15-c5a137a62bf9",
   "metadata": {
    "id": "1482c0ca-8477-4b4b-8e15-c5a137a62bf9"
   },
   "outputs": [
    {
     "data": {
      "text/plain": [
       "list"
      ]
     },
     "execution_count": 448,
     "metadata": {},
     "output_type": "execute_result"
    }
   ],
   "source": [
    "type(my_data)"
   ]
  },
  {
   "cell_type": "markdown",
   "id": "a87a5836-1c86-4a1e-8a12-5201daa9e4b5",
   "metadata": {
    "id": "a87a5836-1c86-4a1e-8a12-5201daa9e4b5"
   },
   "source": [
    "Let's access the first element of the list. Since the variable is a **list**, we use **indexing**. Indexing allows us to retrieve specific elements from a list by their position. In this case, to access the first element, we use the index 0 since Python starts counting from 0."
   ]
  },
  {
   "cell_type": "code",
   "execution_count": 450,
   "id": "247f2ac8-bcaf-46f8-bd70-25a9e51e69eb",
   "metadata": {
    "id": "247f2ac8-bcaf-46f8-bd70-25a9e51e69eb"
   },
   "outputs": [
    {
     "data": {
      "text/plain": [
       "{'Mike': [25, 23000], 'Jane': [38, 40000], 'Bill': [45, 35000]}"
      ]
     },
     "execution_count": 450,
     "metadata": {},
     "output_type": "execute_result"
    }
   ],
   "source": [
    "my_data[0]"
   ]
  },
  {
   "cell_type": "markdown",
   "id": "88fe62d8-d888-4e97-8856-959ee1bd47aa",
   "metadata": {
    "id": "88fe62d8-d888-4e97-8856-959ee1bd47aa"
   },
   "source": [
    "This element is a dictionary, which can be determined by its structure and the presence of key-value pairs. However, if you're unsure about the data type, you can use the `type()` function to confirm it."
   ]
  },
  {
   "cell_type": "code",
   "execution_count": 452,
   "id": "9a049816-1098-4799-82a8-003fa5ccd263",
   "metadata": {
    "id": "9a049816-1098-4799-82a8-003fa5ccd263"
   },
   "outputs": [
    {
     "data": {
      "text/plain": [
       "dict"
      ]
     },
     "execution_count": 452,
     "metadata": {},
     "output_type": "execute_result"
    }
   ],
   "source": [
    "type(my_data[0])"
   ]
  },
  {
   "cell_type": "markdown",
   "id": "635d4205-cc13-4a0b-aa87-c0898da9d3dd",
   "metadata": {
    "id": "635d4205-cc13-4a0b-aa87-c0898da9d3dd"
   },
   "source": [
    "Now let's access the data of 'Jane'. Since this element is a **dictionary**, we need to access its values using the corresponding **keys**."
   ]
  },
  {
   "cell_type": "code",
   "execution_count": 454,
   "id": "062356f6-f02c-4d11-9dd0-2e55cfa438b8",
   "metadata": {
    "id": "062356f6-f02c-4d11-9dd0-2e55cfa438b8"
   },
   "outputs": [
    {
     "data": {
      "text/plain": [
       "[38, 40000]"
      ]
     },
     "execution_count": 454,
     "metadata": {},
     "output_type": "execute_result"
    }
   ],
   "source": [
    "my_data[0]['Jane']"
   ]
  },
  {
   "cell_type": "markdown",
   "id": "089625c7-dfd1-4b7a-b490-9821eb84572d",
   "metadata": {
    "id": "089625c7-dfd1-4b7a-b490-9821eb84572d"
   },
   "source": [
    "As we can see, we get another **list**. To access the last element of this list, we can use its **index**."
   ]
  },
  {
   "cell_type": "code",
   "execution_count": 456,
   "id": "9bd9d9ac-91c9-48df-8973-18de70bfa330",
   "metadata": {
    "id": "9bd9d9ac-91c9-48df-8973-18de70bfa330"
   },
   "outputs": [
    {
     "data": {
      "text/plain": [
       "list"
      ]
     },
     "execution_count": 456,
     "metadata": {},
     "output_type": "execute_result"
    }
   ],
   "source": [
    "type(my_data[0]['Jane']) # Let's make sure its a list"
   ]
  },
  {
   "cell_type": "code",
   "execution_count": 458,
   "id": "fefcc28d-84b9-4e6e-815b-e924a99ff32e",
   "metadata": {
    "id": "fefcc28d-84b9-4e6e-815b-e924a99ff32e"
   },
   "outputs": [
    {
     "data": {
      "text/plain": [
       "40000"
      ]
     },
     "execution_count": 458,
     "metadata": {},
     "output_type": "execute_result"
    }
   ],
   "source": [
    "my_data[0]['Jane'][1]"
   ]
  },
  {
   "cell_type": "markdown",
   "id": "b7107a1a-b95b-4af4-bff4-91a42d435d55",
   "metadata": {
    "id": "b7107a1a-b95b-4af4-bff4-91a42d435d55"
   },
   "source": [
    "# Extra: \"is\" vs \"==\""
   ]
  },
  {
   "cell_type": "markdown",
   "id": "644820c4-1c6a-4793-8153-4a34d6b822de",
   "metadata": {
    "id": "644820c4-1c6a-4793-8153-4a34d6b822de"
   },
   "source": [
    "- `==` compares the values of two objects and returns `True` if they are equal.\n",
    "- `is` compares the identity of two objects and returns `True` if they refer to the same object in memory.\n",
    "- `id()` is a built-in function in Python that returns the unique identifier (memory address) of an object. Each object has a distinct `id()` value, allowing us to differentiate between different objects even if they have the same values."
   ]
  },
  {
   "cell_type": "code",
   "execution_count": 460,
   "id": "4733a76e-fa9f-4c21-b277-3ecca378139c",
   "metadata": {
    "id": "4733a76e-fa9f-4c21-b277-3ecca378139c"
   },
   "outputs": [
    {
     "name": "stdout",
     "output_type": "stream",
     "text": [
      "True\n",
      "False\n",
      "1905650052544\n",
      "1905649965184\n",
      "True\n",
      "1905649965184\n",
      "1905649965184\n"
     ]
    }
   ],
   "source": [
    "a = [1, 2]\n",
    "b = [1, 2]\n",
    "\n",
    "# Comparing the values of a and b using ==\n",
    "print(a == b)  # True (Both lists have the same values)\n",
    "\n",
    "# Comparing the identity of a and b using is\n",
    "print(a is b)  # False (a and b are different objects in memory)\n",
    "\n",
    "# Printing the unique identifier (memory address) of a and b\n",
    "print(id(a))\n",
    "print(id(b))\n",
    "\n",
    "# Assigning b to a\n",
    "a = b\n",
    "\n",
    "# Comparing the identity of a and b again after assignment\n",
    "print(a is b)  # True (a and b now refer to the same object)\n",
    "\n",
    "# Printing the updated memory addresses of a and b\n",
    "print(id(a))\n",
    "print(id(b))\n"
   ]
  },
  {
   "cell_type": "code",
   "execution_count": null,
   "id": "c5bcda31-cbcd-4030-b5de-f14800b44cb9",
   "metadata": {},
   "outputs": [],
   "source": []
  }
 ],
 "metadata": {
  "colab": {
   "provenance": []
  },
  "kernelspec": {
   "display_name": "Python 3 (ipykernel)",
   "language": "python",
   "name": "python3"
  },
  "language_info": {
   "codemirror_mode": {
    "name": "ipython",
    "version": 3
   },
   "file_extension": ".py",
   "mimetype": "text/x-python",
   "name": "python",
   "nbconvert_exporter": "python",
   "pygments_lexer": "ipython3",
   "version": "3.12.4"
  },
  "toc": {
   "base_numbering": 1,
   "nav_menu": {},
   "number_sections": true,
   "sideBar": true,
   "skip_h1_title": false,
   "title_cell": "Table of Contents",
   "title_sidebar": "Contents",
   "toc_cell": true,
   "toc_position": {
    "height": "537.273px",
    "left": "1007.99px",
    "top": "110.824px",
    "width": "165px"
   },
   "toc_section_display": true,
   "toc_window_display": true
  }
 },
 "nbformat": 4,
 "nbformat_minor": 5
}
